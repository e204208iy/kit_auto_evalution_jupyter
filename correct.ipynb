{
 "cells": [
  {
   "cell_type": "markdown",
   "metadata": {},
   "source": [
    "# 2025年度　AI概論　期末試験問題 回答"
   ]
  },
  {
   "cell_type": "markdown",
   "metadata": {},
   "source": [
    "## 学籍番号　氏名\n",
    "### 提出日　令和7年2月4日"
   ]
  },
  {
   "cell_type": "markdown",
   "metadata": {},
   "source": [
    "# 【機械学習：近未来予測】時間ごとの気温変動予測\n",
    "#### 学習の流れ\n",
    "1. データセット（CSVデータ）をインポートする\n",
    "2. CSVデータの読み込み（機械学習に必要なデータの読み込み）\n",
    "3. 説明変数X（計測データ）と目的変数y（教師データ)を用意する\n",
    "4. 訓練データとテストデータに分ける\n",
    "5. 訓練データを用いて回帰モデルを作成\n",
    "6. テストデータを回帰モデルに当てはめて予測を実施\n",
    "7. 誤差の結果表示（実際の価格と予測した価格の差を表示）\n",
    "8. Matplotlib によるグラフ表示（実際の価格と予測した価格変化をグラフで比較）"
   ]
  },
  {
   "cell_type": "markdown",
   "metadata": {},
   "source": [
    "## 問題1-1. 必要なモジュールの読み込み\n",
    "\n",
    "CSVデータの読み込みに必要なPandasをインポートし、1時間ごとの気温のデータが入った\n",
    "temperature20230208.csvのデータをtemp_dataに読み込む。"
   ]
  },
  {
   "cell_type": "code",
   "execution_count": 1,
   "metadata": {},
   "outputs": [],
   "source": [
    "#問題1-1のプログラム\n",
    "import pandas as pd\n",
    "temp_data = pd.read_csv(\"temperature20230208.csv\")"
   ]
  },
  {
   "cell_type": "markdown",
   "metadata": {},
   "source": [
    "## 問題1-2. temp_dataが読み込めているかを確認するため、最初の10行を表示してみましょう。"
   ]
  },
  {
   "cell_type": "code",
   "execution_count": 2,
   "metadata": {},
   "outputs": [
    {
     "data": {
      "text/html": [
       "<div>\n",
       "<style scoped>\n",
       "    .dataframe tbody tr th:only-of-type {\n",
       "        vertical-align: middle;\n",
       "    }\n",
       "\n",
       "    .dataframe tbody tr th {\n",
       "        vertical-align: top;\n",
       "    }\n",
       "\n",
       "    .dataframe thead th {\n",
       "        text-align: right;\n",
       "    }\n",
       "</style>\n",
       "<table border=\"1\" class=\"dataframe\">\n",
       "  <thead>\n",
       "    <tr style=\"text-align: right;\">\n",
       "      <th></th>\n",
       "      <th>年月日時</th>\n",
       "      <th>気温</th>\n",
       "    </tr>\n",
       "  </thead>\n",
       "  <tbody>\n",
       "    <tr>\n",
       "      <th>0</th>\n",
       "      <td>2020/4/1 1:00</td>\n",
       "      <td>9.4</td>\n",
       "    </tr>\n",
       "    <tr>\n",
       "      <th>1</th>\n",
       "      <td>2020/4/1 2:00</td>\n",
       "      <td>9.3</td>\n",
       "    </tr>\n",
       "    <tr>\n",
       "      <th>2</th>\n",
       "      <td>2020/4/1 3:00</td>\n",
       "      <td>9.5</td>\n",
       "    </tr>\n",
       "    <tr>\n",
       "      <th>3</th>\n",
       "      <td>2020/4/1 4:00</td>\n",
       "      <td>9.5</td>\n",
       "    </tr>\n",
       "    <tr>\n",
       "      <th>4</th>\n",
       "      <td>2020/4/1 5:00</td>\n",
       "      <td>9.6</td>\n",
       "    </tr>\n",
       "    <tr>\n",
       "      <th>5</th>\n",
       "      <td>2020/4/1 6:00</td>\n",
       "      <td>9.8</td>\n",
       "    </tr>\n",
       "    <tr>\n",
       "      <th>6</th>\n",
       "      <td>2020/4/1 7:00</td>\n",
       "      <td>9.8</td>\n",
       "    </tr>\n",
       "    <tr>\n",
       "      <th>7</th>\n",
       "      <td>2020/4/1 8:00</td>\n",
       "      <td>10.2</td>\n",
       "    </tr>\n",
       "    <tr>\n",
       "      <th>8</th>\n",
       "      <td>2020/4/1 9:00</td>\n",
       "      <td>10.7</td>\n",
       "    </tr>\n",
       "    <tr>\n",
       "      <th>9</th>\n",
       "      <td>2020/4/1 10:00</td>\n",
       "      <td>11.3</td>\n",
       "    </tr>\n",
       "  </tbody>\n",
       "</table>\n",
       "</div>"
      ],
      "text/plain": [
       "             年月日時    気温\n",
       "0   2020/4/1 1:00   9.4\n",
       "1   2020/4/1 2:00   9.3\n",
       "2   2020/4/1 3:00   9.5\n",
       "3   2020/4/1 4:00   9.5\n",
       "4   2020/4/1 5:00   9.6\n",
       "5   2020/4/1 6:00   9.8\n",
       "6   2020/4/1 7:00   9.8\n",
       "7   2020/4/1 8:00  10.2\n",
       "8   2020/4/1 9:00  10.7\n",
       "9  2020/4/1 10:00  11.3"
      ]
     },
     "execution_count": 2,
     "metadata": {},
     "output_type": "execute_result"
    }
   ],
   "source": [
    "#問題1-2のプログラム\n",
    "#最初の10行を表示\n",
    "temp_data.head(10)"
   ]
  },
  {
   "cell_type": "markdown",
   "metadata": {},
   "source": [
    "## 問題1-3. 最後の10行を表示してみましょう。"
   ]
  },
  {
   "cell_type": "code",
   "execution_count": 3,
   "metadata": {},
   "outputs": [
    {
     "data": {
      "text/html": [
       "<div>\n",
       "<style scoped>\n",
       "    .dataframe tbody tr th:only-of-type {\n",
       "        vertical-align: middle;\n",
       "    }\n",
       "\n",
       "    .dataframe tbody tr th {\n",
       "        vertical-align: top;\n",
       "    }\n",
       "\n",
       "    .dataframe thead th {\n",
       "        text-align: right;\n",
       "    }\n",
       "</style>\n",
       "<table border=\"1\" class=\"dataframe\">\n",
       "  <thead>\n",
       "    <tr style=\"text-align: right;\">\n",
       "      <th></th>\n",
       "      <th>年月日時</th>\n",
       "      <th>気温</th>\n",
       "    </tr>\n",
       "  </thead>\n",
       "  <tbody>\n",
       "    <tr>\n",
       "      <th>711</th>\n",
       "      <td>2020/4/30 16:00</td>\n",
       "      <td>23.2</td>\n",
       "    </tr>\n",
       "    <tr>\n",
       "      <th>712</th>\n",
       "      <td>2020/4/30 17:00</td>\n",
       "      <td>22.0</td>\n",
       "    </tr>\n",
       "    <tr>\n",
       "      <th>713</th>\n",
       "      <td>2020/4/30 18:00</td>\n",
       "      <td>20.3</td>\n",
       "    </tr>\n",
       "    <tr>\n",
       "      <th>714</th>\n",
       "      <td>2020/4/30 19:00</td>\n",
       "      <td>19.8</td>\n",
       "    </tr>\n",
       "    <tr>\n",
       "      <th>715</th>\n",
       "      <td>2020/4/30 20:00</td>\n",
       "      <td>19.2</td>\n",
       "    </tr>\n",
       "    <tr>\n",
       "      <th>716</th>\n",
       "      <td>2020/4/30 21:00</td>\n",
       "      <td>18.5</td>\n",
       "    </tr>\n",
       "    <tr>\n",
       "      <th>717</th>\n",
       "      <td>2020/4/30 22:00</td>\n",
       "      <td>17.9</td>\n",
       "    </tr>\n",
       "    <tr>\n",
       "      <th>718</th>\n",
       "      <td>2020/4/30 23:00</td>\n",
       "      <td>17.6</td>\n",
       "    </tr>\n",
       "    <tr>\n",
       "      <th>719</th>\n",
       "      <td>2020/5/1 0:00</td>\n",
       "      <td>17.4</td>\n",
       "    </tr>\n",
       "    <tr>\n",
       "      <th>720</th>\n",
       "      <td>2020/5/1 1:00</td>\n",
       "      <td>17.2</td>\n",
       "    </tr>\n",
       "  </tbody>\n",
       "</table>\n",
       "</div>"
      ],
      "text/plain": [
       "                年月日時    気温\n",
       "711  2020/4/30 16:00  23.2\n",
       "712  2020/4/30 17:00  22.0\n",
       "713  2020/4/30 18:00  20.3\n",
       "714  2020/4/30 19:00  19.8\n",
       "715  2020/4/30 20:00  19.2\n",
       "716  2020/4/30 21:00  18.5\n",
       "717  2020/4/30 22:00  17.9\n",
       "718  2020/4/30 23:00  17.6\n",
       "719    2020/5/1 0:00  17.4\n",
       "720    2020/5/1 1:00  17.2"
      ]
     },
     "execution_count": 3,
     "metadata": {},
     "output_type": "execute_result"
    }
   ],
   "source": [
    "#問題1-3のプログラム\n",
    "#最後の10行を表示\n",
    "temp_data.tail(10)"
   ]
  },
  {
   "cell_type": "markdown",
   "metadata": {},
   "source": [
    "## 問題１-4. 何行何列のデータであるか調べましょう。　ヒント：shape"
   ]
  },
  {
   "cell_type": "code",
   "execution_count": 4,
   "metadata": {},
   "outputs": [
    {
     "data": {
      "text/plain": [
       "(721, 2)"
      ]
     },
     "execution_count": 4,
     "metadata": {},
     "output_type": "execute_result"
    }
   ],
   "source": [
    "#問題1-4のプログラム\n",
    "temp_data.shape"
   ]
  },
  {
   "cell_type": "markdown",
   "metadata": {},
   "source": [
    "## 問題1-5. 学習に必要な説明変数　X（計測データ）と目的変数y （教師データ）を用意しましょう。すべてのデータを用いましょう。\n"
   ]
  },
  {
   "cell_type": "markdown",
   "metadata": {},
   "source": [
    "### X にはある年月日時の気温、y は その１時間の時間の 気温 と対応させましょう。\n",
    "### つまり、「ある時間の 気温 が X なら、その1 時間後の気温は y になる」という形で訓練データ（説明変数）と教師データ（目的変数）を設定します。"
   ]
  },
  {
   "cell_type": "code",
   "execution_count": 5,
   "metadata": {},
   "outputs": [],
   "source": [
    "#問題1-5のプログラム\n",
    "X = temp_data.loc[0:719, [\"気温\"]]\n",
    "#X は ある時間の気温、y は その１時間後の 気温とします。\n",
    "y = temp_data.loc[1:720, [\"気温\"]]"
   ]
  },
  {
   "cell_type": "markdown",
   "metadata": {},
   "source": [
    "## 問題1-6. Xの最初の10行を表示しましょう"
   ]
  },
  {
   "cell_type": "code",
   "execution_count": 6,
   "metadata": {},
   "outputs": [
    {
     "data": {
      "text/html": [
       "<div>\n",
       "<style scoped>\n",
       "    .dataframe tbody tr th:only-of-type {\n",
       "        vertical-align: middle;\n",
       "    }\n",
       "\n",
       "    .dataframe tbody tr th {\n",
       "        vertical-align: top;\n",
       "    }\n",
       "\n",
       "    .dataframe thead th {\n",
       "        text-align: right;\n",
       "    }\n",
       "</style>\n",
       "<table border=\"1\" class=\"dataframe\">\n",
       "  <thead>\n",
       "    <tr style=\"text-align: right;\">\n",
       "      <th></th>\n",
       "      <th>気温</th>\n",
       "    </tr>\n",
       "  </thead>\n",
       "  <tbody>\n",
       "    <tr>\n",
       "      <th>0</th>\n",
       "      <td>9.4</td>\n",
       "    </tr>\n",
       "    <tr>\n",
       "      <th>1</th>\n",
       "      <td>9.3</td>\n",
       "    </tr>\n",
       "    <tr>\n",
       "      <th>2</th>\n",
       "      <td>9.5</td>\n",
       "    </tr>\n",
       "    <tr>\n",
       "      <th>3</th>\n",
       "      <td>9.5</td>\n",
       "    </tr>\n",
       "    <tr>\n",
       "      <th>4</th>\n",
       "      <td>9.6</td>\n",
       "    </tr>\n",
       "    <tr>\n",
       "      <th>5</th>\n",
       "      <td>9.8</td>\n",
       "    </tr>\n",
       "    <tr>\n",
       "      <th>6</th>\n",
       "      <td>9.8</td>\n",
       "    </tr>\n",
       "    <tr>\n",
       "      <th>7</th>\n",
       "      <td>10.2</td>\n",
       "    </tr>\n",
       "    <tr>\n",
       "      <th>8</th>\n",
       "      <td>10.7</td>\n",
       "    </tr>\n",
       "    <tr>\n",
       "      <th>9</th>\n",
       "      <td>11.3</td>\n",
       "    </tr>\n",
       "  </tbody>\n",
       "</table>\n",
       "</div>"
      ],
      "text/plain": [
       "     気温\n",
       "0   9.4\n",
       "1   9.3\n",
       "2   9.5\n",
       "3   9.5\n",
       "4   9.6\n",
       "5   9.8\n",
       "6   9.8\n",
       "7  10.2\n",
       "8  10.7\n",
       "9  11.3"
      ]
     },
     "execution_count": 6,
     "metadata": {},
     "output_type": "execute_result"
    }
   ],
   "source": [
    "#問題1-6のプログラム\n",
    "#最初の10行を表示\n",
    "X.head(10)"
   ]
  },
  {
   "cell_type": "markdown",
   "metadata": {},
   "source": [
    "## 問題1-7. Xの最後の10行を表示しましょう"
   ]
  },
  {
   "cell_type": "code",
   "execution_count": 7,
   "metadata": {},
   "outputs": [
    {
     "data": {
      "text/html": [
       "<div>\n",
       "<style scoped>\n",
       "    .dataframe tbody tr th:only-of-type {\n",
       "        vertical-align: middle;\n",
       "    }\n",
       "\n",
       "    .dataframe tbody tr th {\n",
       "        vertical-align: top;\n",
       "    }\n",
       "\n",
       "    .dataframe thead th {\n",
       "        text-align: right;\n",
       "    }\n",
       "</style>\n",
       "<table border=\"1\" class=\"dataframe\">\n",
       "  <thead>\n",
       "    <tr style=\"text-align: right;\">\n",
       "      <th></th>\n",
       "      <th>気温</th>\n",
       "    </tr>\n",
       "  </thead>\n",
       "  <tbody>\n",
       "    <tr>\n",
       "      <th>710</th>\n",
       "      <td>24.5</td>\n",
       "    </tr>\n",
       "    <tr>\n",
       "      <th>711</th>\n",
       "      <td>23.2</td>\n",
       "    </tr>\n",
       "    <tr>\n",
       "      <th>712</th>\n",
       "      <td>22.0</td>\n",
       "    </tr>\n",
       "    <tr>\n",
       "      <th>713</th>\n",
       "      <td>20.3</td>\n",
       "    </tr>\n",
       "    <tr>\n",
       "      <th>714</th>\n",
       "      <td>19.8</td>\n",
       "    </tr>\n",
       "    <tr>\n",
       "      <th>715</th>\n",
       "      <td>19.2</td>\n",
       "    </tr>\n",
       "    <tr>\n",
       "      <th>716</th>\n",
       "      <td>18.5</td>\n",
       "    </tr>\n",
       "    <tr>\n",
       "      <th>717</th>\n",
       "      <td>17.9</td>\n",
       "    </tr>\n",
       "    <tr>\n",
       "      <th>718</th>\n",
       "      <td>17.6</td>\n",
       "    </tr>\n",
       "    <tr>\n",
       "      <th>719</th>\n",
       "      <td>17.4</td>\n",
       "    </tr>\n",
       "  </tbody>\n",
       "</table>\n",
       "</div>"
      ],
      "text/plain": [
       "       気温\n",
       "710  24.5\n",
       "711  23.2\n",
       "712  22.0\n",
       "713  20.3\n",
       "714  19.8\n",
       "715  19.2\n",
       "716  18.5\n",
       "717  17.9\n",
       "718  17.6\n",
       "719  17.4"
      ]
     },
     "execution_count": 7,
     "metadata": {},
     "output_type": "execute_result"
    }
   ],
   "source": [
    "#問題1-7のプログラム\n",
    "X.tail(10)"
   ]
  },
  {
   "cell_type": "markdown",
   "metadata": {},
   "source": [
    "##  問題1-8. ｙの最初の10行を表示しましょう"
   ]
  },
  {
   "cell_type": "code",
   "execution_count": 8,
   "metadata": {},
   "outputs": [
    {
     "data": {
      "text/html": [
       "<div>\n",
       "<style scoped>\n",
       "    .dataframe tbody tr th:only-of-type {\n",
       "        vertical-align: middle;\n",
       "    }\n",
       "\n",
       "    .dataframe tbody tr th {\n",
       "        vertical-align: top;\n",
       "    }\n",
       "\n",
       "    .dataframe thead th {\n",
       "        text-align: right;\n",
       "    }\n",
       "</style>\n",
       "<table border=\"1\" class=\"dataframe\">\n",
       "  <thead>\n",
       "    <tr style=\"text-align: right;\">\n",
       "      <th></th>\n",
       "      <th>気温</th>\n",
       "    </tr>\n",
       "  </thead>\n",
       "  <tbody>\n",
       "    <tr>\n",
       "      <th>1</th>\n",
       "      <td>9.3</td>\n",
       "    </tr>\n",
       "    <tr>\n",
       "      <th>2</th>\n",
       "      <td>9.5</td>\n",
       "    </tr>\n",
       "    <tr>\n",
       "      <th>3</th>\n",
       "      <td>9.5</td>\n",
       "    </tr>\n",
       "    <tr>\n",
       "      <th>4</th>\n",
       "      <td>9.6</td>\n",
       "    </tr>\n",
       "    <tr>\n",
       "      <th>5</th>\n",
       "      <td>9.8</td>\n",
       "    </tr>\n",
       "    <tr>\n",
       "      <th>6</th>\n",
       "      <td>9.8</td>\n",
       "    </tr>\n",
       "    <tr>\n",
       "      <th>7</th>\n",
       "      <td>10.2</td>\n",
       "    </tr>\n",
       "    <tr>\n",
       "      <th>8</th>\n",
       "      <td>10.7</td>\n",
       "    </tr>\n",
       "    <tr>\n",
       "      <th>9</th>\n",
       "      <td>11.3</td>\n",
       "    </tr>\n",
       "    <tr>\n",
       "      <th>10</th>\n",
       "      <td>11.8</td>\n",
       "    </tr>\n",
       "  </tbody>\n",
       "</table>\n",
       "</div>"
      ],
      "text/plain": [
       "      気温\n",
       "1    9.3\n",
       "2    9.5\n",
       "3    9.5\n",
       "4    9.6\n",
       "5    9.8\n",
       "6    9.8\n",
       "7   10.2\n",
       "8   10.7\n",
       "9   11.3\n",
       "10  11.8"
      ]
     },
     "execution_count": 8,
     "metadata": {},
     "output_type": "execute_result"
    }
   ],
   "source": [
    "#問題1-8のプログラム\n",
    "y.head(10)"
   ]
  },
  {
   "cell_type": "markdown",
   "metadata": {},
   "source": [
    "##  問題1-9. ｙの最後の10行を表示しましょう"
   ]
  },
  {
   "cell_type": "code",
   "execution_count": 9,
   "metadata": {},
   "outputs": [
    {
     "data": {
      "text/html": [
       "<div>\n",
       "<style scoped>\n",
       "    .dataframe tbody tr th:only-of-type {\n",
       "        vertical-align: middle;\n",
       "    }\n",
       "\n",
       "    .dataframe tbody tr th {\n",
       "        vertical-align: top;\n",
       "    }\n",
       "\n",
       "    .dataframe thead th {\n",
       "        text-align: right;\n",
       "    }\n",
       "</style>\n",
       "<table border=\"1\" class=\"dataframe\">\n",
       "  <thead>\n",
       "    <tr style=\"text-align: right;\">\n",
       "      <th></th>\n",
       "      <th>気温</th>\n",
       "    </tr>\n",
       "  </thead>\n",
       "  <tbody>\n",
       "    <tr>\n",
       "      <th>711</th>\n",
       "      <td>23.2</td>\n",
       "    </tr>\n",
       "    <tr>\n",
       "      <th>712</th>\n",
       "      <td>22.0</td>\n",
       "    </tr>\n",
       "    <tr>\n",
       "      <th>713</th>\n",
       "      <td>20.3</td>\n",
       "    </tr>\n",
       "    <tr>\n",
       "      <th>714</th>\n",
       "      <td>19.8</td>\n",
       "    </tr>\n",
       "    <tr>\n",
       "      <th>715</th>\n",
       "      <td>19.2</td>\n",
       "    </tr>\n",
       "    <tr>\n",
       "      <th>716</th>\n",
       "      <td>18.5</td>\n",
       "    </tr>\n",
       "    <tr>\n",
       "      <th>717</th>\n",
       "      <td>17.9</td>\n",
       "    </tr>\n",
       "    <tr>\n",
       "      <th>718</th>\n",
       "      <td>17.6</td>\n",
       "    </tr>\n",
       "    <tr>\n",
       "      <th>719</th>\n",
       "      <td>17.4</td>\n",
       "    </tr>\n",
       "    <tr>\n",
       "      <th>720</th>\n",
       "      <td>17.2</td>\n",
       "    </tr>\n",
       "  </tbody>\n",
       "</table>\n",
       "</div>"
      ],
      "text/plain": [
       "       気温\n",
       "711  23.2\n",
       "712  22.0\n",
       "713  20.3\n",
       "714  19.8\n",
       "715  19.2\n",
       "716  18.5\n",
       "717  17.9\n",
       "718  17.6\n",
       "719  17.4\n",
       "720  17.2"
      ]
     },
     "execution_count": 9,
     "metadata": {},
     "output_type": "execute_result"
    }
   ],
   "source": [
    "#問題1-9のプログラム\n",
    "y.tail(10)"
   ]
  },
  {
   "cell_type": "markdown",
   "metadata": {},
   "source": [
    "## 訓練データとテストデータに分ける\n",
    "\n",
    "##  問題1-10. X と y を訓練データとテストデータに分て、 X_train, X_test, y_train, y_test の配列 4 つを作成します。先頭 600件を訓練データ、後ろの120件をテストデータとしましょう。"
   ]
  },
  {
   "cell_type": "markdown",
   "metadata": {},
   "source": [
    "X と y は Pandas の二次元配列形式（DataFrame）であるため、NumPy の配列形式（ndarray）に変換する必要があります"
   ]
  },
  {
   "cell_type": "code",
   "execution_count": 10,
   "metadata": {},
   "outputs": [],
   "source": [
    "#問題1-10のプログラム\n",
    "import numpy as np\n",
    "X_train = np.array(X[:600])\n",
    "X_test = np.array(X[600:])\n",
    "y_train = np.array(y[:600])\n",
    "y_test = np.array(y[600:])"
   ]
  },
  {
   "cell_type": "markdown",
   "metadata": {},
   "source": [
    "##   問題1-11. X_train、y_train、X_test、y_testの行数、列数を確認しましょう。"
   ]
  },
  {
   "cell_type": "code",
   "execution_count": 11,
   "metadata": {},
   "outputs": [
    {
     "name": "stdout",
     "output_type": "stream",
     "text": [
      "(600, 1)\n",
      "(600, 1)\n",
      "(120, 1)\n",
      "(120, 1)\n"
     ]
    }
   ],
   "source": [
    "#問題1-11のプログラム\n",
    "print(X_train.shape)\n",
    "print(y_train.shape)\n",
    "print(X_test.shape)\n",
    "print(y_test.shape)"
   ]
  },
  {
   "cell_type": "markdown",
   "metadata": {},
   "source": [
    "## 訓練データを用いて回帰モデルを作成する\n",
    "scikit-learn(サイキットラーン)とは、Pythonのオープンソース機械学習ライブラリで、機械学習のアルゴリズムを幅広くサポートしています。\n",
    "\n",
    "##  問題1-12. scikit-learn（sklearn）のLinearRegression クラスを利用して線形回帰モデルを作成しましょう。コンストラクタを実行して訓練データを fit() する流れは、機械学習に共通です。"
   ]
  },
  {
   "cell_type": "code",
   "execution_count": 12,
   "metadata": {},
   "outputs": [
    {
     "data": {
      "text/html": [
       "<style>#sk-container-id-1 {\n",
       "  /* Definition of color scheme common for light and dark mode */\n",
       "  --sklearn-color-text: #000;\n",
       "  --sklearn-color-text-muted: #666;\n",
       "  --sklearn-color-line: gray;\n",
       "  /* Definition of color scheme for unfitted estimators */\n",
       "  --sklearn-color-unfitted-level-0: #fff5e6;\n",
       "  --sklearn-color-unfitted-level-1: #f6e4d2;\n",
       "  --sklearn-color-unfitted-level-2: #ffe0b3;\n",
       "  --sklearn-color-unfitted-level-3: chocolate;\n",
       "  /* Definition of color scheme for fitted estimators */\n",
       "  --sklearn-color-fitted-level-0: #f0f8ff;\n",
       "  --sklearn-color-fitted-level-1: #d4ebff;\n",
       "  --sklearn-color-fitted-level-2: #b3dbfd;\n",
       "  --sklearn-color-fitted-level-3: cornflowerblue;\n",
       "\n",
       "  /* Specific color for light theme */\n",
       "  --sklearn-color-text-on-default-background: var(--sg-text-color, var(--theme-code-foreground, var(--jp-content-font-color1, black)));\n",
       "  --sklearn-color-background: var(--sg-background-color, var(--theme-background, var(--jp-layout-color0, white)));\n",
       "  --sklearn-color-border-box: var(--sg-text-color, var(--theme-code-foreground, var(--jp-content-font-color1, black)));\n",
       "  --sklearn-color-icon: #696969;\n",
       "\n",
       "  @media (prefers-color-scheme: dark) {\n",
       "    /* Redefinition of color scheme for dark theme */\n",
       "    --sklearn-color-text-on-default-background: var(--sg-text-color, var(--theme-code-foreground, var(--jp-content-font-color1, white)));\n",
       "    --sklearn-color-background: var(--sg-background-color, var(--theme-background, var(--jp-layout-color0, #111)));\n",
       "    --sklearn-color-border-box: var(--sg-text-color, var(--theme-code-foreground, var(--jp-content-font-color1, white)));\n",
       "    --sklearn-color-icon: #878787;\n",
       "  }\n",
       "}\n",
       "\n",
       "#sk-container-id-1 {\n",
       "  color: var(--sklearn-color-text);\n",
       "}\n",
       "\n",
       "#sk-container-id-1 pre {\n",
       "  padding: 0;\n",
       "}\n",
       "\n",
       "#sk-container-id-1 input.sk-hidden--visually {\n",
       "  border: 0;\n",
       "  clip: rect(1px 1px 1px 1px);\n",
       "  clip: rect(1px, 1px, 1px, 1px);\n",
       "  height: 1px;\n",
       "  margin: -1px;\n",
       "  overflow: hidden;\n",
       "  padding: 0;\n",
       "  position: absolute;\n",
       "  width: 1px;\n",
       "}\n",
       "\n",
       "#sk-container-id-1 div.sk-dashed-wrapped {\n",
       "  border: 1px dashed var(--sklearn-color-line);\n",
       "  margin: 0 0.4em 0.5em 0.4em;\n",
       "  box-sizing: border-box;\n",
       "  padding-bottom: 0.4em;\n",
       "  background-color: var(--sklearn-color-background);\n",
       "}\n",
       "\n",
       "#sk-container-id-1 div.sk-container {\n",
       "  /* jupyter's `normalize.less` sets `[hidden] { display: none; }`\n",
       "     but bootstrap.min.css set `[hidden] { display: none !important; }`\n",
       "     so we also need the `!important` here to be able to override the\n",
       "     default hidden behavior on the sphinx rendered scikit-learn.org.\n",
       "     See: https://github.com/scikit-learn/scikit-learn/issues/21755 */\n",
       "  display: inline-block !important;\n",
       "  position: relative;\n",
       "}\n",
       "\n",
       "#sk-container-id-1 div.sk-text-repr-fallback {\n",
       "  display: none;\n",
       "}\n",
       "\n",
       "div.sk-parallel-item,\n",
       "div.sk-serial,\n",
       "div.sk-item {\n",
       "  /* draw centered vertical line to link estimators */\n",
       "  background-image: linear-gradient(var(--sklearn-color-text-on-default-background), var(--sklearn-color-text-on-default-background));\n",
       "  background-size: 2px 100%;\n",
       "  background-repeat: no-repeat;\n",
       "  background-position: center center;\n",
       "}\n",
       "\n",
       "/* Parallel-specific style estimator block */\n",
       "\n",
       "#sk-container-id-1 div.sk-parallel-item::after {\n",
       "  content: \"\";\n",
       "  width: 100%;\n",
       "  border-bottom: 2px solid var(--sklearn-color-text-on-default-background);\n",
       "  flex-grow: 1;\n",
       "}\n",
       "\n",
       "#sk-container-id-1 div.sk-parallel {\n",
       "  display: flex;\n",
       "  align-items: stretch;\n",
       "  justify-content: center;\n",
       "  background-color: var(--sklearn-color-background);\n",
       "  position: relative;\n",
       "}\n",
       "\n",
       "#sk-container-id-1 div.sk-parallel-item {\n",
       "  display: flex;\n",
       "  flex-direction: column;\n",
       "}\n",
       "\n",
       "#sk-container-id-1 div.sk-parallel-item:first-child::after {\n",
       "  align-self: flex-end;\n",
       "  width: 50%;\n",
       "}\n",
       "\n",
       "#sk-container-id-1 div.sk-parallel-item:last-child::after {\n",
       "  align-self: flex-start;\n",
       "  width: 50%;\n",
       "}\n",
       "\n",
       "#sk-container-id-1 div.sk-parallel-item:only-child::after {\n",
       "  width: 0;\n",
       "}\n",
       "\n",
       "/* Serial-specific style estimator block */\n",
       "\n",
       "#sk-container-id-1 div.sk-serial {\n",
       "  display: flex;\n",
       "  flex-direction: column;\n",
       "  align-items: center;\n",
       "  background-color: var(--sklearn-color-background);\n",
       "  padding-right: 1em;\n",
       "  padding-left: 1em;\n",
       "}\n",
       "\n",
       "\n",
       "/* Toggleable style: style used for estimator/Pipeline/ColumnTransformer box that is\n",
       "clickable and can be expanded/collapsed.\n",
       "- Pipeline and ColumnTransformer use this feature and define the default style\n",
       "- Estimators will overwrite some part of the style using the `sk-estimator` class\n",
       "*/\n",
       "\n",
       "/* Pipeline and ColumnTransformer style (default) */\n",
       "\n",
       "#sk-container-id-1 div.sk-toggleable {\n",
       "  /* Default theme specific background. It is overwritten whether we have a\n",
       "  specific estimator or a Pipeline/ColumnTransformer */\n",
       "  background-color: var(--sklearn-color-background);\n",
       "}\n",
       "\n",
       "/* Toggleable label */\n",
       "#sk-container-id-1 label.sk-toggleable__label {\n",
       "  cursor: pointer;\n",
       "  display: flex;\n",
       "  width: 100%;\n",
       "  margin-bottom: 0;\n",
       "  padding: 0.5em;\n",
       "  box-sizing: border-box;\n",
       "  text-align: center;\n",
       "  align-items: start;\n",
       "  justify-content: space-between;\n",
       "  gap: 0.5em;\n",
       "}\n",
       "\n",
       "#sk-container-id-1 label.sk-toggleable__label .caption {\n",
       "  font-size: 0.6rem;\n",
       "  font-weight: lighter;\n",
       "  color: var(--sklearn-color-text-muted);\n",
       "}\n",
       "\n",
       "#sk-container-id-1 label.sk-toggleable__label-arrow:before {\n",
       "  /* Arrow on the left of the label */\n",
       "  content: \"▸\";\n",
       "  float: left;\n",
       "  margin-right: 0.25em;\n",
       "  color: var(--sklearn-color-icon);\n",
       "}\n",
       "\n",
       "#sk-container-id-1 label.sk-toggleable__label-arrow:hover:before {\n",
       "  color: var(--sklearn-color-text);\n",
       "}\n",
       "\n",
       "/* Toggleable content - dropdown */\n",
       "\n",
       "#sk-container-id-1 div.sk-toggleable__content {\n",
       "  max-height: 0;\n",
       "  max-width: 0;\n",
       "  overflow: hidden;\n",
       "  text-align: left;\n",
       "  /* unfitted */\n",
       "  background-color: var(--sklearn-color-unfitted-level-0);\n",
       "}\n",
       "\n",
       "#sk-container-id-1 div.sk-toggleable__content.fitted {\n",
       "  /* fitted */\n",
       "  background-color: var(--sklearn-color-fitted-level-0);\n",
       "}\n",
       "\n",
       "#sk-container-id-1 div.sk-toggleable__content pre {\n",
       "  margin: 0.2em;\n",
       "  border-radius: 0.25em;\n",
       "  color: var(--sklearn-color-text);\n",
       "  /* unfitted */\n",
       "  background-color: var(--sklearn-color-unfitted-level-0);\n",
       "}\n",
       "\n",
       "#sk-container-id-1 div.sk-toggleable__content.fitted pre {\n",
       "  /* unfitted */\n",
       "  background-color: var(--sklearn-color-fitted-level-0);\n",
       "}\n",
       "\n",
       "#sk-container-id-1 input.sk-toggleable__control:checked~div.sk-toggleable__content {\n",
       "  /* Expand drop-down */\n",
       "  max-height: 200px;\n",
       "  max-width: 100%;\n",
       "  overflow: auto;\n",
       "}\n",
       "\n",
       "#sk-container-id-1 input.sk-toggleable__control:checked~label.sk-toggleable__label-arrow:before {\n",
       "  content: \"▾\";\n",
       "}\n",
       "\n",
       "/* Pipeline/ColumnTransformer-specific style */\n",
       "\n",
       "#sk-container-id-1 div.sk-label input.sk-toggleable__control:checked~label.sk-toggleable__label {\n",
       "  color: var(--sklearn-color-text);\n",
       "  background-color: var(--sklearn-color-unfitted-level-2);\n",
       "}\n",
       "\n",
       "#sk-container-id-1 div.sk-label.fitted input.sk-toggleable__control:checked~label.sk-toggleable__label {\n",
       "  background-color: var(--sklearn-color-fitted-level-2);\n",
       "}\n",
       "\n",
       "/* Estimator-specific style */\n",
       "\n",
       "/* Colorize estimator box */\n",
       "#sk-container-id-1 div.sk-estimator input.sk-toggleable__control:checked~label.sk-toggleable__label {\n",
       "  /* unfitted */\n",
       "  background-color: var(--sklearn-color-unfitted-level-2);\n",
       "}\n",
       "\n",
       "#sk-container-id-1 div.sk-estimator.fitted input.sk-toggleable__control:checked~label.sk-toggleable__label {\n",
       "  /* fitted */\n",
       "  background-color: var(--sklearn-color-fitted-level-2);\n",
       "}\n",
       "\n",
       "#sk-container-id-1 div.sk-label label.sk-toggleable__label,\n",
       "#sk-container-id-1 div.sk-label label {\n",
       "  /* The background is the default theme color */\n",
       "  color: var(--sklearn-color-text-on-default-background);\n",
       "}\n",
       "\n",
       "/* On hover, darken the color of the background */\n",
       "#sk-container-id-1 div.sk-label:hover label.sk-toggleable__label {\n",
       "  color: var(--sklearn-color-text);\n",
       "  background-color: var(--sklearn-color-unfitted-level-2);\n",
       "}\n",
       "\n",
       "/* Label box, darken color on hover, fitted */\n",
       "#sk-container-id-1 div.sk-label.fitted:hover label.sk-toggleable__label.fitted {\n",
       "  color: var(--sklearn-color-text);\n",
       "  background-color: var(--sklearn-color-fitted-level-2);\n",
       "}\n",
       "\n",
       "/* Estimator label */\n",
       "\n",
       "#sk-container-id-1 div.sk-label label {\n",
       "  font-family: monospace;\n",
       "  font-weight: bold;\n",
       "  display: inline-block;\n",
       "  line-height: 1.2em;\n",
       "}\n",
       "\n",
       "#sk-container-id-1 div.sk-label-container {\n",
       "  text-align: center;\n",
       "}\n",
       "\n",
       "/* Estimator-specific */\n",
       "#sk-container-id-1 div.sk-estimator {\n",
       "  font-family: monospace;\n",
       "  border: 1px dotted var(--sklearn-color-border-box);\n",
       "  border-radius: 0.25em;\n",
       "  box-sizing: border-box;\n",
       "  margin-bottom: 0.5em;\n",
       "  /* unfitted */\n",
       "  background-color: var(--sklearn-color-unfitted-level-0);\n",
       "}\n",
       "\n",
       "#sk-container-id-1 div.sk-estimator.fitted {\n",
       "  /* fitted */\n",
       "  background-color: var(--sklearn-color-fitted-level-0);\n",
       "}\n",
       "\n",
       "/* on hover */\n",
       "#sk-container-id-1 div.sk-estimator:hover {\n",
       "  /* unfitted */\n",
       "  background-color: var(--sklearn-color-unfitted-level-2);\n",
       "}\n",
       "\n",
       "#sk-container-id-1 div.sk-estimator.fitted:hover {\n",
       "  /* fitted */\n",
       "  background-color: var(--sklearn-color-fitted-level-2);\n",
       "}\n",
       "\n",
       "/* Specification for estimator info (e.g. \"i\" and \"?\") */\n",
       "\n",
       "/* Common style for \"i\" and \"?\" */\n",
       "\n",
       ".sk-estimator-doc-link,\n",
       "a:link.sk-estimator-doc-link,\n",
       "a:visited.sk-estimator-doc-link {\n",
       "  float: right;\n",
       "  font-size: smaller;\n",
       "  line-height: 1em;\n",
       "  font-family: monospace;\n",
       "  background-color: var(--sklearn-color-background);\n",
       "  border-radius: 1em;\n",
       "  height: 1em;\n",
       "  width: 1em;\n",
       "  text-decoration: none !important;\n",
       "  margin-left: 0.5em;\n",
       "  text-align: center;\n",
       "  /* unfitted */\n",
       "  border: var(--sklearn-color-unfitted-level-1) 1pt solid;\n",
       "  color: var(--sklearn-color-unfitted-level-1);\n",
       "}\n",
       "\n",
       ".sk-estimator-doc-link.fitted,\n",
       "a:link.sk-estimator-doc-link.fitted,\n",
       "a:visited.sk-estimator-doc-link.fitted {\n",
       "  /* fitted */\n",
       "  border: var(--sklearn-color-fitted-level-1) 1pt solid;\n",
       "  color: var(--sklearn-color-fitted-level-1);\n",
       "}\n",
       "\n",
       "/* On hover */\n",
       "div.sk-estimator:hover .sk-estimator-doc-link:hover,\n",
       ".sk-estimator-doc-link:hover,\n",
       "div.sk-label-container:hover .sk-estimator-doc-link:hover,\n",
       ".sk-estimator-doc-link:hover {\n",
       "  /* unfitted */\n",
       "  background-color: var(--sklearn-color-unfitted-level-3);\n",
       "  color: var(--sklearn-color-background);\n",
       "  text-decoration: none;\n",
       "}\n",
       "\n",
       "div.sk-estimator.fitted:hover .sk-estimator-doc-link.fitted:hover,\n",
       ".sk-estimator-doc-link.fitted:hover,\n",
       "div.sk-label-container:hover .sk-estimator-doc-link.fitted:hover,\n",
       ".sk-estimator-doc-link.fitted:hover {\n",
       "  /* fitted */\n",
       "  background-color: var(--sklearn-color-fitted-level-3);\n",
       "  color: var(--sklearn-color-background);\n",
       "  text-decoration: none;\n",
       "}\n",
       "\n",
       "/* Span, style for the box shown on hovering the info icon */\n",
       ".sk-estimator-doc-link span {\n",
       "  display: none;\n",
       "  z-index: 9999;\n",
       "  position: relative;\n",
       "  font-weight: normal;\n",
       "  right: .2ex;\n",
       "  padding: .5ex;\n",
       "  margin: .5ex;\n",
       "  width: min-content;\n",
       "  min-width: 20ex;\n",
       "  max-width: 50ex;\n",
       "  color: var(--sklearn-color-text);\n",
       "  box-shadow: 2pt 2pt 4pt #999;\n",
       "  /* unfitted */\n",
       "  background: var(--sklearn-color-unfitted-level-0);\n",
       "  border: .5pt solid var(--sklearn-color-unfitted-level-3);\n",
       "}\n",
       "\n",
       ".sk-estimator-doc-link.fitted span {\n",
       "  /* fitted */\n",
       "  background: var(--sklearn-color-fitted-level-0);\n",
       "  border: var(--sklearn-color-fitted-level-3);\n",
       "}\n",
       "\n",
       ".sk-estimator-doc-link:hover span {\n",
       "  display: block;\n",
       "}\n",
       "\n",
       "/* \"?\"-specific style due to the `<a>` HTML tag */\n",
       "\n",
       "#sk-container-id-1 a.estimator_doc_link {\n",
       "  float: right;\n",
       "  font-size: 1rem;\n",
       "  line-height: 1em;\n",
       "  font-family: monospace;\n",
       "  background-color: var(--sklearn-color-background);\n",
       "  border-radius: 1rem;\n",
       "  height: 1rem;\n",
       "  width: 1rem;\n",
       "  text-decoration: none;\n",
       "  /* unfitted */\n",
       "  color: var(--sklearn-color-unfitted-level-1);\n",
       "  border: var(--sklearn-color-unfitted-level-1) 1pt solid;\n",
       "}\n",
       "\n",
       "#sk-container-id-1 a.estimator_doc_link.fitted {\n",
       "  /* fitted */\n",
       "  border: var(--sklearn-color-fitted-level-1) 1pt solid;\n",
       "  color: var(--sklearn-color-fitted-level-1);\n",
       "}\n",
       "\n",
       "/* On hover */\n",
       "#sk-container-id-1 a.estimator_doc_link:hover {\n",
       "  /* unfitted */\n",
       "  background-color: var(--sklearn-color-unfitted-level-3);\n",
       "  color: var(--sklearn-color-background);\n",
       "  text-decoration: none;\n",
       "}\n",
       "\n",
       "#sk-container-id-1 a.estimator_doc_link.fitted:hover {\n",
       "  /* fitted */\n",
       "  background-color: var(--sklearn-color-fitted-level-3);\n",
       "}\n",
       "</style><div id=\"sk-container-id-1\" class=\"sk-top-container\"><div class=\"sk-text-repr-fallback\"><pre>LinearRegression()</pre><b>In a Jupyter environment, please rerun this cell to show the HTML representation or trust the notebook. <br />On GitHub, the HTML representation is unable to render, please try loading this page with nbviewer.org.</b></div><div class=\"sk-container\" hidden><div class=\"sk-item\"><div class=\"sk-estimator fitted sk-toggleable\"><input class=\"sk-toggleable__control sk-hidden--visually\" id=\"sk-estimator-id-1\" type=\"checkbox\" checked><label for=\"sk-estimator-id-1\" class=\"sk-toggleable__label fitted sk-toggleable__label-arrow\"><div><div>LinearRegression</div></div><div><a class=\"sk-estimator-doc-link fitted\" rel=\"noreferrer\" target=\"_blank\" href=\"https://scikit-learn.org/1.6/modules/generated/sklearn.linear_model.LinearRegression.html\">?<span>Documentation for LinearRegression</span></a><span class=\"sk-estimator-doc-link fitted\">i<span>Fitted</span></span></div></label><div class=\"sk-toggleable__content fitted\"><pre>LinearRegression()</pre></div> </div></div></div></div>"
      ],
      "text/plain": [
       "LinearRegression()"
      ]
     },
     "execution_count": 12,
     "metadata": {},
     "output_type": "execute_result"
    }
   ],
   "source": [
    "#問題1-12のプログラム\n",
    "from sklearn import linear_model\n",
    "model = linear_model.LinearRegression()\n",
    "model.fit(X_train,y_train)"
   ]
  },
  {
   "cell_type": "markdown",
   "metadata": {},
   "source": [
    "##  問題1-13. テストデータを回帰モデルに当てはめて予測しましょう。\n",
    "## 予測結果はy_predに入れます。"
   ]
  },
  {
   "cell_type": "code",
   "execution_count": 13,
   "metadata": {},
   "outputs": [],
   "source": [
    "#問題1-13のプログラム\n",
    "y_pred = model.predict(X_test)"
   ]
  },
  {
   "cell_type": "markdown",
   "metadata": {},
   "source": [
    "##  問題1-14. 予測結果を表示しましょう。"
   ]
  },
  {
   "cell_type": "code",
   "execution_count": 14,
   "metadata": {},
   "outputs": [
    {
     "data": {
      "text/plain": [
       "array([[11.34188305],\n",
       "       [11.24588543],\n",
       "       [10.66989973],\n",
       "       [ 9.22993547],\n",
       "       [ 8.46195453],\n",
       "       [10.28590926],\n",
       "       [12.78184731],\n",
       "       [15.18178774],\n",
       "       [19.50168051],\n",
       "       [21.70962571],\n",
       "       [22.86159711],\n",
       "       [23.3415852 ],\n",
       "       [24.39755899],\n",
       "       [23.72557567],\n",
       "       [23.62957805],\n",
       "       [22.47760664],\n",
       "       [21.03764239],\n",
       "       [20.07766621],\n",
       "       [19.02169242],\n",
       "       [18.92569481],\n",
       "       [18.54170434],\n",
       "       [17.96571864],\n",
       "       [16.04576629],\n",
       "       [14.9897925 ],\n",
       "       [14.02981633],\n",
       "       [13.26183539],\n",
       "       [12.58985207],\n",
       "       [12.10986399],\n",
       "       [11.53387828],\n",
       "       [12.39785684],\n",
       "       [13.54982824],\n",
       "       [14.70179965],\n",
       "       [14.79779727],\n",
       "       [14.9897925 ],\n",
       "       [15.94976867],\n",
       "       [15.85377106],\n",
       "       [15.85377106],\n",
       "       [12.49385446],\n",
       "       [12.78184731],\n",
       "       [11.82187114],\n",
       "       [11.24588543],\n",
       "       [11.0538902 ],\n",
       "       [10.86189496],\n",
       "       [10.57390211],\n",
       "       [10.57390211],\n",
       "       [ 9.90191879],\n",
       "       [ 9.61392594],\n",
       "       [ 9.61392594],\n",
       "       [ 9.03794024],\n",
       "       [ 9.90191879],\n",
       "       [ 9.51792832],\n",
       "       [ 9.03794024],\n",
       "       [ 8.845945  ],\n",
       "       [ 9.70992356],\n",
       "       [11.24588543],\n",
       "       [12.30185922],\n",
       "       [13.16583778],\n",
       "       [15.18178774],\n",
       "       [16.71774961],\n",
       "       [16.90974485],\n",
       "       [16.52575438],\n",
       "       [12.78184731],\n",
       "       [12.39785684],\n",
       "       [12.01386637],\n",
       "       [14.02981633],\n",
       "       [12.87784492],\n",
       "       [13.16583778],\n",
       "       [12.01386637],\n",
       "       [12.97384254],\n",
       "       [12.01386637],\n",
       "       [11.43788067],\n",
       "       [11.0538902 ],\n",
       "       [11.14988782],\n",
       "       [11.34188305],\n",
       "       [10.86189496],\n",
       "       [ 9.13393785],\n",
       "       [ 8.74994739],\n",
       "       [ 9.80592117],\n",
       "       [12.2058616 ],\n",
       "       [14.31780918],\n",
       "       [16.42975676],\n",
       "       [18.44570672],\n",
       "       [19.11769004],\n",
       "       [20.94164477],\n",
       "       [20.46165668],\n",
       "       [21.42163285],\n",
       "       [21.51763047],\n",
       "       [20.46165668],\n",
       "       [19.59767813],\n",
       "       [18.73369957],\n",
       "       [16.81374723],\n",
       "       [15.56577821],\n",
       "       [14.60580203],\n",
       "       [13.93381871],\n",
       "       [13.93381871],\n",
       "       [14.02981633],\n",
       "       [12.68584969],\n",
       "       [13.54982824],\n",
       "       [12.78184731],\n",
       "       [12.2058616 ],\n",
       "       [12.2058616 ],\n",
       "       [13.45383063],\n",
       "       [15.18178774],\n",
       "       [16.62175199],\n",
       "       [17.67772578],\n",
       "       [19.59767813],\n",
       "       [20.65365192],\n",
       "       [21.70962571],\n",
       "       [22.47760664],\n",
       "       [23.3415852 ],\n",
       "       [24.01356852],\n",
       "       [22.76559949],\n",
       "       [21.61362809],\n",
       "       [19.9816686 ],\n",
       "       [19.50168051],\n",
       "       [18.92569481],\n",
       "       [18.25371149],\n",
       "       [17.67772578],\n",
       "       [17.38973293],\n",
       "       [17.1977377 ]])"
      ]
     },
     "execution_count": 14,
     "metadata": {},
     "output_type": "execute_result"
    }
   ],
   "source": [
    "#問題1-14のプログラム\n",
    "y_pred"
   ]
  },
  {
   "cell_type": "markdown",
   "metadata": {},
   "source": [
    "##  問題1-15. 実際の値（正解） も出力してみましょう"
   ]
  },
  {
   "cell_type": "code",
   "execution_count": 15,
   "metadata": {},
   "outputs": [
    {
     "name": "stdout",
     "output_type": "stream",
     "text": [
      "[[11.2]\n",
      " [10.6]\n",
      " [ 9.1]\n",
      " [ 8.3]\n",
      " [10.2]\n",
      " [12.8]\n",
      " [15.3]\n",
      " [19.8]\n",
      " [22.1]\n",
      " [23.3]\n",
      " [23.8]\n",
      " [24.9]\n",
      " [24.2]\n",
      " [24.1]\n",
      " [22.9]\n",
      " [21.4]\n",
      " [20.4]\n",
      " [19.3]\n",
      " [19.2]\n",
      " [18.8]\n",
      " [18.2]\n",
      " [16.2]\n",
      " [15.1]\n",
      " [14.1]\n",
      " [13.3]\n",
      " [12.6]\n",
      " [12.1]\n",
      " [11.5]\n",
      " [12.4]\n",
      " [13.6]\n",
      " [14.8]\n",
      " [14.9]\n",
      " [15.1]\n",
      " [16.1]\n",
      " [16. ]\n",
      " [16. ]\n",
      " [12.5]\n",
      " [12.8]\n",
      " [11.8]\n",
      " [11.2]\n",
      " [11. ]\n",
      " [10.8]\n",
      " [10.5]\n",
      " [10.5]\n",
      " [ 9.8]\n",
      " [ 9.5]\n",
      " [ 9.5]\n",
      " [ 8.9]\n",
      " [ 9.8]\n",
      " [ 9.4]\n",
      " [ 8.9]\n",
      " [ 8.7]\n",
      " [ 9.6]\n",
      " [11.2]\n",
      " [12.3]\n",
      " [13.2]\n",
      " [15.3]\n",
      " [16.9]\n",
      " [17.1]\n",
      " [16.7]\n",
      " [12.8]\n",
      " [12.4]\n",
      " [12. ]\n",
      " [14.1]\n",
      " [12.9]\n",
      " [13.2]\n",
      " [12. ]\n",
      " [13. ]\n",
      " [12. ]\n",
      " [11.4]\n",
      " [11. ]\n",
      " [11.1]\n",
      " [11.3]\n",
      " [10.8]\n",
      " [ 9. ]\n",
      " [ 8.6]\n",
      " [ 9.7]\n",
      " [12.2]\n",
      " [14.4]\n",
      " [16.6]\n",
      " [18.7]\n",
      " [19.4]\n",
      " [21.3]\n",
      " [20.8]\n",
      " [21.8]\n",
      " [21.9]\n",
      " [20.8]\n",
      " [19.9]\n",
      " [19. ]\n",
      " [17. ]\n",
      " [15.7]\n",
      " [14.7]\n",
      " [14. ]\n",
      " [14. ]\n",
      " [14.1]\n",
      " [12.7]\n",
      " [13.6]\n",
      " [12.8]\n",
      " [12.2]\n",
      " [12.2]\n",
      " [13.5]\n",
      " [15.3]\n",
      " [16.8]\n",
      " [17.9]\n",
      " [19.9]\n",
      " [21. ]\n",
      " [22.1]\n",
      " [22.9]\n",
      " [23.8]\n",
      " [24.5]\n",
      " [23.2]\n",
      " [22. ]\n",
      " [20.3]\n",
      " [19.8]\n",
      " [19.2]\n",
      " [18.5]\n",
      " [17.9]\n",
      " [17.6]\n",
      " [17.4]\n",
      " [17.2]]\n"
     ]
    }
   ],
   "source": [
    "#問題1-15のプログラム\n",
    "print(y_test)"
   ]
  },
  {
   "cell_type": "markdown",
   "metadata": {},
   "source": [
    "##  問題1-16. 実際の値と予測値の差を出力しましょう"
   ]
  },
  {
   "cell_type": "code",
   "execution_count": 16,
   "metadata": {
    "scrolled": false
   },
   "outputs": [
    {
     "name": "stdout",
     "output_type": "stream",
     "text": [
      "[[-1.26681294e-02]\n",
      " [-6.09325880e-02]\n",
      " [-1.72516454e-01]\n",
      " [-1.12040418e-01]\n",
      " [ 1.70396614e-01]\n",
      " [ 1.96413339e-01]\n",
      " [ 1.64585143e-01]\n",
      " [ 2.33243044e-01]\n",
      " [ 1.17571018e-01]\n",
      " [ 6.82564075e-02]\n",
      " [ 3.94286928e-02]\n",
      " [ 6.25869399e-02]\n",
      " [-8.16359449e-03]\n",
      " [ 1.55362794e-02]\n",
      " [-3.18593035e-02]\n",
      " [-5.03554506e-02]\n",
      " [-3.12569797e-02]\n",
      " [-4.02935862e-02]\n",
      " [ 9.28685290e-03]\n",
      " [-6.68589400e-03]\n",
      " [-1.87749637e-02]\n",
      " [-1.08994977e-01]\n",
      " [-6.26335293e-02]\n",
      " [-6.31058513e-02]\n",
      " [-5.48734083e-02]\n",
      " [-5.25266185e-02]\n",
      " [-4.04836424e-02]\n",
      " [-5.30316511e-02]\n",
      " [ 6.98485255e-02]\n",
      " [ 8.83928795e-02]\n",
      " [ 8.44710645e-02]\n",
      " [ 1.33020368e-02]\n",
      " [ 2.00134259e-02]\n",
      " [ 6.89569874e-02]\n",
      " [ 3.13945784e-03]\n",
      " [ 9.13930891e-03]\n",
      " [-2.68301685e-01]\n",
      " [ 2.39176206e-02]\n",
      " [-8.32073989e-02]\n",
      " [-5.55242085e-02]\n",
      " [-2.23532211e-02]\n",
      " [-2.35083517e-02]\n",
      " [-3.44661870e-02]\n",
      " [-7.03829641e-03]\n",
      " [-7.89696033e-02]\n",
      " [-4.23072413e-02]\n",
      " [-1.19922043e-02]\n",
      " [-8.02163978e-02]\n",
      " [ 7.77612003e-02]\n",
      " [-5.33956162e-02]\n",
      " [-6.94301487e-02]\n",
      " [-3.88437054e-02]\n",
      " [ 7.85473955e-02]\n",
      " [ 1.33042539e-01]\n",
      " [ 8.57003713e-02]\n",
      " [ 6.80409681e-02]\n",
      " [ 1.39487727e-01]\n",
      " [ 1.01669365e-01]\n",
      " [ 2.23538239e-02]\n",
      " [-1.25595716e-02]\n",
      " [-2.91074561e-01]\n",
      " [-3.07941377e-02]\n",
      " [-3.31547366e-02]\n",
      " [ 1.47952740e-01]\n",
      " [-8.75826613e-02]\n",
      " [ 2.44056875e-02]\n",
      " [-9.71531480e-02]\n",
      " [ 7.58564331e-02]\n",
      " [-8.11535452e-02]\n",
      " [-5.38479272e-02]\n",
      " [-3.98073334e-02]\n",
      " [ 4.15403619e-03]\n",
      " [ 1.32842641e-02]\n",
      " [-5.01743565e-02]\n",
      " [-2.06877218e-01]\n",
      " [-6.20857970e-02]\n",
      " [ 9.79435685e-02]\n",
      " [ 1.96235969e-01]\n",
      " [ 1.52370722e-01]\n",
      " [ 1.37481375e-01]\n",
      " [ 1.21403382e-01]\n",
      " [ 4.91903752e-02]\n",
      " [ 1.02455867e-01]\n",
      " [-6.80984462e-03]\n",
      " [ 6.13918953e-02]\n",
      " [ 2.18432487e-02]\n",
      " [-3.45014650e-02]\n",
      " [-2.82239539e-02]\n",
      " [-3.14567436e-02]\n",
      " [-1.01982328e-01]\n",
      " [-7.09393140e-02]\n",
      " [-5.88964766e-02]\n",
      " [-4.32715739e-02]\n",
      " [ 4.72723473e-03]\n",
      " [ 1.17859068e-02]\n",
      " [-1.04709947e-01]\n",
      " [ 6.72169345e-02]\n",
      " [-5.85803316e-02]\n",
      " [-4.76924023e-02]\n",
      " [-4.80459380e-04]\n",
      " [ 9.58621034e-02]\n",
      " [ 1.20664665e-01]\n",
      " [ 9.63221585e-02]\n",
      " [ 7.14105031e-02]\n",
      " [ 1.11672071e-01]\n",
      " [ 6.67772320e-02]\n",
      " [ 6.54456146e-02]\n",
      " [ 5.19814102e-02]\n",
      " [ 5.55627461e-02]\n",
      " [ 4.72822368e-02]\n",
      " [-3.50676085e-02]\n",
      " [-3.47999770e-02]\n",
      " [-6.47107433e-02]\n",
      " [-9.17518163e-03]\n",
      " [-1.57125266e-02]\n",
      " [-2.30105301e-02]\n",
      " [-1.97604183e-02]\n",
      " [-4.41623772e-03]\n",
      " [ 5.90061363e-04]\n",
      " [ 1.31529191e-04]]\n"
     ]
    }
   ],
   "source": [
    "#問題1-16のプログラム\n",
    "print( (y_test-y_pred)/y_test )"
   ]
  },
  {
   "cell_type": "markdown",
   "metadata": {},
   "source": [
    "## Matplotlib を利用した可視化によるデータ分析\n",
    "数値の並びだけを見ても予測の精度がわかりません。"
   ]
  },
  {
   "cell_type": "markdown",
   "metadata": {},
   "source": [
    "##  問題1-17. 実際の値（y_test）と予測値（y_pred）の差のヒストグラムを表示してください"
   ]
  },
  {
   "cell_type": "code",
   "execution_count": 17,
   "metadata": {},
   "outputs": [
    {
     "data": {
      "image/png": "[encoded data removed]",
      "text/plain": [
       "<Figure size 640x480 with 1 Axes>"
      ]
     },
     "metadata": {},
     "output_type": "display_data"
    }
   ],
   "source": [
    "#問題1-17のプログラム\n",
    "#matplotlibのインポート\n",
    "import matplotlib.pyplot as plt\n",
    "\n",
    "\"\"\"ここからコードを記述してください\"\"\"\n",
    "plt.hist((y_test-y_pred)/y_test )\n",
    "plt.xlabel('Error from predicted value')\n",
    "plt.ylabel('frequency distribution')\n",
    "plt.title(\"Histogram of difference between the correct value and the predicted value\")\n",
    "plt.grid(True)\n"
   ]
  },
  {
   "cell_type": "markdown",
   "metadata": {},
   "source": [
    "##  問題1-18.  テストデータy_testと予測結果y_pred をの価格の推移がわかるグラフを描いてください。\n",
    "以下、仕様です。\n",
    "- テストデータは青色で表示（プロット plot）し、Actual temperatureというラベル（label）をつける。\n",
    "- 予測値は赤色で表示（プロット plot）し、'Estimated temperature'というラベル（label）をつける。\n",
    "- テストデータと予測値データのグラフは同じ領域に重ねて描いてください。\n",
    "- グラフの右下に凡例を表示してください。\n",
    "- 図のタイトルは\"Atmospheric temperature (hourly change)\"としてください。\n",
    "- xラベルは \"Hours\", yラベルは\"Temperature\"とつけて表示してください。"
   ]
  },
  {
   "cell_type": "code",
   "execution_count": 18,
   "metadata": {},
   "outputs": [
    {
     "data": {
      "text/plain": [
       "<matplotlib.legend.Legend at 0x150b396a0>"
      ]
     },
     "execution_count": 18,
     "metadata": {},
     "output_type": "execute_result"
    },
    {
     "data": {
      "image/png": "[encoded data removed]",
      "text/plain": [
       "<Figure size 640x480 with 1 Axes>"
      ]
     },
     "metadata": {},
     "output_type": "display_data"
    }
   ],
   "source": [
    "#問題1-18のプログラム\n",
    "import matplotlib.pyplot as plt\n",
    "\n",
    "\"\"\"ここからコードを記述してください\"\"\"\n",
    "\n",
    "plt.plot(range(0,120), y_test, label=\"Actual temperature\", color=\"blue\")\n",
    "plt.plot(range(0,120), y_pred, label=\"Estimated temperature\", color=\"red\")\n",
    "plt.xlabel(\"Hours\")\n",
    "plt.ylabel(\"Temperature\")\n",
    "plt.title(\"Atmospheric temperature (hourly change)\")\n",
    "plt.grid(True)\n",
    "plt.legend(loc = \"lower right\")\n"
   ]
  },
  {
   "cell_type": "markdown",
   "metadata": {},
   "source": [
    "# 【機械学習：画像分類】\n",
    "\n",
    "## 教師あり学習による画像分類　手書き数字（0と１と２）を分類する\n",
    "\n",
    "### 学習に使うデータセットをインポートして計測データ(説明データ)と教師データ（目的データ）に分ける\n",
    "\n",
    "学習の流れ\n",
    "- データセット（手書き数字画像ファイル）をインポートする\n",
    "\n",
    "Moodle（eラーニング）から、機械学習に必要な手書き数字の画像が入ったzip（圧縮）ファイルをダウンロードし、展開（解凍）してください。展開して表示された `num_photo012` フォルダをコピーします。\n",
    "- 機械学習に必要なデータの読み込み\n",
    "- 説明変数X（計測データ）と目的変数y（教師データ)を用意する\n",
    "- 訓練データとテストデータに分ける\n",
    "- 訓練データを用いて分類器を作成\n",
    "- テストデータを分類器にかけて分類を実施\n",
    "- 正解率を求める"
   ]
  },
  {
   "cell_type": "markdown",
   "metadata": {},
   "source": [
    "##  問題2-1. 必要なライブラリ（モジュール）をインポートしましょう(実行)"
   ]
  },
  {
   "cell_type": "code",
   "execution_count": 19,
   "metadata": {},
   "outputs": [],
   "source": [
    "#問題2-1のプログラム\n",
    "import imageio #画像処理のライブラリ。\n",
    "               #取り込んだ画像の情報（ピクセル単位）をndarray形式に変換\n",
    "import numpy as np #読み込んだ画像データ（計測データ）を配列に読み込む\n",
    "import matplotlib.pyplot as plt   #画像を表示するときに利用\n",
    "from sklearn.metrics import accuracy_score    #モデルの正解率を計算する"
   ]
  },
  {
   "cell_type": "markdown",
   "metadata": {},
   "source": [
    "## 参考：手書き数字「０」の一枚目の画像の計測データを出力した後、画像そのものを表示してみましょう。（実行のみ）\n",
    "※今回は、縦28×横28ピクセルの白黒画像です。"
   ]
  },
  {
   "cell_type": "code",
   "execution_count": 20,
   "metadata": {},
   "outputs": [
    {
     "name": "stdout",
     "output_type": "stream",
     "text": [
      "(28, 28)\n",
      "[[  0   0   0   0   0   0   0   0   0   1   0   0   0   2   0   2   0   2\n",
      "    0   0   2   0   0   2   0   0   0   0]\n",
      " [  0   0   0   0   0   0   0   0   1   2   0   2   1   0   0   0   0   0\n",
      "    0   0   2   0   1   0   0   0   0   0]\n",
      " [  0   0   0   0   0   0   0   0   0   0   4   0   2   0   1   2   3   0\n",
      "    2   3   0   1   0   0   0   0   0   0]\n",
      " [  0   0   0   0   0   0   0   0   0   0   0   2   0   0   3   0   0   0\n",
      "    2   0   0   2   2   0   0   0   0   0]\n",
      " [  0   0   0   0   0   0   0   0   0   1   0   2   1   0   3   0   0  66\n",
      "  251 255  65   0   0   0   0   0   0   0]\n",
      " [  0   0   0   0   0   0   0   0   0   3   0   0   0   2   0   0  97 204\n",
      "  251 255 200 112   6   0   0   0   0   0]\n",
      " [  0   0   0   0   0   0   0   0   1   0   4   0   0   1   1  95 187 253\n",
      "  248 254 251 254  28   0   0   0   0   0]\n",
      " [  0   0   0   0   0   0   0   0   1   0   0   0  16  62 224 245 251 250\n",
      "  213 212 251 252  31   0   0   0   0   0]\n",
      " [  2   0   1   0   0   1   3   0   0   2   0  78 182 252 251 253 248 253\n",
      "   92  98 251 251  29   1   0   0   0   0]\n",
      " [  0   1   1   3   1   0   0   3   0   3  94 252 255 252 255 252 255 252\n",
      "   94  96 250 255  29   0   0   0   0   0]\n",
      " [  2   0   0   0   0   2   0   1   1  88 236 254 240 218 235 254 253 241\n",
      "   83  93 253 251  33   1   0   0   0   0]\n",
      " [  0   0   3   1   0   1   1   0  82 255 250 251 192   0  97 248 249 108\n",
      "    2  97 249 252  29   0   0   0   0   0]\n",
      " [  1   0   0   3   0   0   2  95 238 252 244 185  42   4  91 206 110   7\n",
      "    0  10 196 252  30   0   0   0   0   0]\n",
      " [  1   0   0   1   2   1   0 223 253 253 121   2   0   0  36  23   0   0\n",
      "    0   2 191 251  32   0   0   0   0   0]\n",
      " [  1   0   4   0   0   0  49 231 252   1   1   0   1   0   3   0   0   1\n",
      "    0   0 193 253  25   3   0   0   0   0]\n",
      " [  1   0   1   0   2  42 222 253 251   1   0   3   0   1   0   0   0   1\n",
      "    0  14 195 250  34   0   0   0   0   0]\n",
      " [  0   0   1   0   1 192 249 251 252   0   2   0   0   2   0   0   1   0\n",
      "    0  97 251 251  30   0   0   0   0   0]\n",
      " [  1   0   0   3   0 190 251 251 113   1   0   2   0   0   0   2   0   1\n",
      "   42 230 254 223  17   5   0   0   0   0]\n",
      " [  1   0   0   0   4 189 249 252  89   4   2   0   2   3   0   0   0  39\n",
      "  216 255 228  47   3   0   0   0   0   0]\n",
      " [  0   1   1   1   0 195 254 252 255   0   0   0   0   0   3  10 174 255\n",
      "  253 220  39   0   3   0   0   0   0   0]\n",
      " [  0   2   0   2   3  64 239 249 252 191 189 112  73 187 193 198 254 238\n",
      "  122  40   1   0   0   1   0   0   0   0]\n",
      " [  1   1   0   0   0   0  59 238 250 251 254 249 250 252 252 249 188  97\n",
      "    0   0   0   2   0   0   0   0   0   0]\n",
      " [  0   1   0   1   2   3   0  28 129 251 254 251 249 252 230 170  14   0\n",
      "    2   2   0   0   0   3   0   0   0   0]\n",
      " [  1   0   0   2   0   0   2   0   0  97 210 253 210  93  59   0   1   0\n",
      "    0   0   1   0   4   0   0   0   0   0]\n",
      " [  0   0   0   0   0   0   0   0   0   0   0   0   0   0   0   0   0   0\n",
      "    0   0   0   0   0   0   0   0   0   0]\n",
      " [  0   0   0   0   0   0   0   0   0   0   0   0   0   0   0   0   0   0\n",
      "    0   0   0   0   0   0   0   0   0   0]\n",
      " [  0   0   0   0   0   0   0   0   0   0   0   0   0   0   0   0   0   0\n",
      "    0   0   0   0   0   0   0   0   0   0]\n",
      " [  0   0   0   0   0   0   0   0   0   0   0   0   0   0   0   0   0   0\n",
      "    0   0   0   0   0   0   0   0   0   0]]\n"
     ]
    },
    {
     "name": "stderr",
     "output_type": "stream",
     "text": [
      "/var/folders/46/7xdkxrqn4bv0clhjnt9pjbdc0000gn/T/ipykernel_39933/1766239561.py:1: DeprecationWarning: Starting with ImageIO v3 the behavior of this function will switch to that of iio.v3.imread. To keep the current behavior (and make this warning disappear) use `import imageio.v2 as imageio` or call `imageio.v2.imread` directly.\n",
      "  num0=imageio.imread(f\"num_photo012/num0/001.jpg\")\n"
     ]
    },
    {
     "data": {
      "image/png": "[encoded data removed]",
      "text/plain": [
       "<Figure size 640x480 with 1 Axes>"
      ]
     },
     "metadata": {},
     "output_type": "display_data"
    }
   ],
   "source": [
    "num0=imageio.imread(f\"num_photo012/num0/001.jpg\")\n",
    "fig=plt.figure()\n",
    "sp=fig.add_subplot(1,1,1)\n",
    "sp.imshow(num0, cmap='Greys_r')# cmap='Greys_r'\n",
    "print(num0.shape)\n",
    "print(num0)"
   ]
  },
  {
   "cell_type": "markdown",
   "metadata": {},
   "source": [
    "##  問題2-2. 数字「1」の一枚目の手書き画像の計測データを出力した後、画像そのものを表示してみましょう。"
   ]
  },
  {
   "cell_type": "code",
   "execution_count": 21,
   "metadata": {},
   "outputs": [
    {
     "name": "stdout",
     "output_type": "stream",
     "text": [
      "(28, 28)\n",
      "[[  0   0   0   0   0   0   0   0   0   0   3   0   0   0   0   0   0   0\n",
      "    0   0   0   0   0   0   0   0   0   0]\n",
      " [  0   0   0   0   0   0   0   0   3   0   0   0   3   0   1   1   0   0\n",
      "    0   0   0   0   0   0   0   0   0   0]\n",
      " [  0   0   0   0   0   0   0   0   0   3   0   0   0   0   1   0   0   0\n",
      "    0   0   0   0   0   0   0   0   0   0]\n",
      " [  0   0   0   0   0   0   0   0   2   0   4   0   2   0   2   0   0   0\n",
      "    0   0   0   0   0   0   0   0   0   0]\n",
      " [  0   0   0   0   0   0   0   0   0   1   0   1 141 255 211  31   0   0\n",
      "    0   0   0   0   0   0   0   0   0   0]\n",
      " [  0   0   0   0   0   0   0   0   0   4   0  31 241 254 251  70   0   0\n",
      "    0   0   0   0   0   0   0   0   0   0]\n",
      " [  0   0   0   0   0   0   0   0   2   0   0   9 172 253 254  72   0   0\n",
      "    0   0   0   0   0   0   0   0   0   0]\n",
      " [  0   0   0   0   0   0   0   0   0   0   2   0 146 254 249  72   0   0\n",
      "    0   0   0   0   0   0   0   0   0   0]\n",
      " [  0   0   0   0   0   0   0   0   0   1   2  13 193 254 251  72   0   2\n",
      "    0   0   0   0   3   0   0   0   0   0]\n",
      " [  0   0   0   0   0   0   0   0   1   0   0  28 219 252 253 122  30   0\n",
      "    2   2   1   0   1   0   0   0   0   0]\n",
      " [  0   0   0   0   0   0   0   0   2   0   3   0 126 254 254 251 109   4\n",
      "    0   0   2   0   0   3   0   0   0   0]\n",
      " [  0   0   0   0   0   0   0   0   0   0   2   1   0 255 253 254 108   0\n",
      "    0   0   0   1   1   0   0   0   0   0]\n",
      " [  0   0   0   0   0   0   0   0   4   0   0   0   0 252 253 253 108   2\n",
      "    5   1   0   0   1   1   0   0   0   0]\n",
      " [  0   0   0   0   0   0   0   0   0   2   1   2   1 255 250 252 108   0\n",
      "    0   2   3   1   0   0   0   0   0   0]\n",
      " [  0   0   0   0   0   0   0   0   0   0   0   1   0 248 254 253 108   4\n",
      "    1   0   0   1   1   0   0   0   0   0]\n",
      " [  0   0   0   0   0   0   0   0   0   0   4   0   2 255 249 254 108   0\n",
      "    0   0   0   0   0   0   0   0   0   0]\n",
      " [  0   0   0   0   0   0   0   0   1   0   1   0   0 255 252 254 169   2\n",
      "    0   0   0   1   0   0   0   0   0   0]\n",
      " [  0   0   0   0   0   0   0   0   0   2   0   0   5 249 253 252 252  40\n",
      "    3   0   2   1   0   1   0   0   0   0]\n",
      " [  0   0   0   0   0   0   0   0   0   0   1   2   0 150 252 255 253 144\n",
      "    0   1   0   1   0   0   0   0   0   0]\n",
      " [  0   0   0   0   0   0   0   0   0   2   1   0   0 109 250 250 251 146\n",
      "    2   0   1   0   1   1   0   0   0   0]\n",
      " [  0   0   0   0   0   0   0   0   3   0   0   0   2   0 222 254 253 253\n",
      "   35   2   2   0   1   0   0   0   0   0]\n",
      " [  0   0   0   0   0   0   0   0   0   0   5   0   1   1 170 252 255 252\n",
      "   34   0   1   0   0   4   0   0   0   0]\n",
      " [  0   0   0   0   0   0   0   0   2   1   0   0   0   3  72 254 251 255\n",
      "   35   0   4   1   0   0   0   0   0   0]\n",
      " [  0   0   0   0   0   0   0   0   0   0   1   4   0   0  33 209 252 253\n",
      "   36   1   0   1   0   2   0   0   0   0]\n",
      " [  0   0   0   0   0   0   0   0   0   0   0   0   0   0   0   0   0   0\n",
      "    0   0   0   0   0   0   0   0   0   0]\n",
      " [  0   0   0   0   0   0   0   0   0   0   0   0   0   0   0   0   0   0\n",
      "    0   0   0   0   0   0   0   0   0   0]\n",
      " [  0   0   0   0   0   0   0   0   0   0   0   0   0   0   0   0   0   0\n",
      "    0   0   0   0   0   0   0   0   0   0]\n",
      " [  0   0   0   0   0   0   0   0   0   0   0   0   0   0   0   0   0   0\n",
      "    0   0   0   0   0   0   0   0   0   0]]\n"
     ]
    },
    {
     "name": "stderr",
     "output_type": "stream",
     "text": [
      "/var/folders/46/7xdkxrqn4bv0clhjnt9pjbdc0000gn/T/ipykernel_39933/2237191289.py:2: DeprecationWarning: Starting with ImageIO v3 the behavior of this function will switch to that of iio.v3.imread. To keep the current behavior (and make this warning disappear) use `import imageio.v2 as imageio` or call `imageio.v2.imread` directly.\n",
      "  num0=imageio.imread(f\"num_photo012/num1/001.jpg\")\n"
     ]
    },
    {
     "data": {
      "image/png": "[encoded data removed]",
      "text/plain": [
       "<Figure size 640x480 with 1 Axes>"
      ]
     },
     "metadata": {},
     "output_type": "display_data"
    }
   ],
   "source": [
    "#問題2-2のプログラム\n",
    "num0=imageio.imread(f\"num_photo012/num1/001.jpg\")\n",
    "fig=plt.figure()\n",
    "sp=fig.add_subplot(1,1,1)\n",
    "sp.imshow(num0, cmap='Greys_r')# cmap='Greys_r'\n",
    "print(num0.shape)\n",
    "print(num0)"
   ]
  },
  {
   "cell_type": "markdown",
   "metadata": {},
   "source": [
    "## 問題2-3. 説明変数Xと目的変数yを入れるための空の配列（計測データ X と教師データ y）を用意する \n",
    "### ＜注意＞PHOTO＿SIZEがいくつになるか考えてください。"
   ]
  },
  {
   "cell_type": "code",
   "execution_count": 22,
   "metadata": {},
   "outputs": [],
   "source": [
    "# 問題2-3のプログラム\n",
    "PHOTO_SIZE =28*28*1\n",
    "# 空の配列（計測データ X と教師データ y）を用意する\n",
    "X = np.empty((0, PHOTO_SIZE), np.uint8)\n",
    "    # uint8とは8ビットで表現できる符号なし整数\n",
    "y = np.empty(0, np.uint8)"
   ]
  },
  {
   "cell_type": "markdown",
   "metadata": {},
   "source": [
    "## 問題2-4. 説明変数Xと目的変数yを出力し、最初、空であることを確認しましょう"
   ]
  },
  {
   "cell_type": "code",
   "execution_count": 23,
   "metadata": {},
   "outputs": [
    {
     "name": "stdout",
     "output_type": "stream",
     "text": [
      "[]\n",
      "[]\n"
     ]
    }
   ],
   "source": [
    "#問題2-4のプログラム\n",
    "print(X)\n",
    "print(y)"
   ]
  },
  {
   "cell_type": "markdown",
   "metadata": {},
   "source": [
    "## Xに機械学習に必要な計測データ、yに教師データを読み込みます。\n",
    "## 問題2-5. 0,1,2,0,1,2・・・・と順に画像データを読み込むよう追記しましょう"
   ]
  },
  {
   "cell_type": "code",
   "execution_count": 25,
   "metadata": {},
   "outputs": [
    {
     "name": "stderr",
     "output_type": "stream",
     "text": [
      "/var/folders/46/7xdkxrqn4bv0clhjnt9pjbdc0000gn/T/ipykernel_39933/1922147591.py:15: DeprecationWarning: Starting with ImageIO v3 the behavior of this function will switch to that of iio.v3.imread. To keep the current behavior (and make this warning disappear) use `import imageio.v2 as imageio` or call `imageio.v2.imread` directly.\n",
      "  p1 =imageio.imread(f\"num_photo012/num0/{i:03d}.jpg\").reshape(1, PHOTO_SIZE)\n",
      "/var/folders/46/7xdkxrqn4bv0clhjnt9pjbdc0000gn/T/ipykernel_39933/1922147591.py:19: DeprecationWarning: Starting with ImageIO v3 the behavior of this function will switch to that of iio.v3.imread. To keep the current behavior (and make this warning disappear) use `import imageio.v2 as imageio` or call `imageio.v2.imread` directly.\n",
      "  p1 =imageio.imread(f\"num_photo012/num1/{i:03d}.jpg\").reshape(1, PHOTO_SIZE)\n",
      "/var/folders/46/7xdkxrqn4bv0clhjnt9pjbdc0000gn/T/ipykernel_39933/1922147591.py:23: DeprecationWarning: Starting with ImageIO v3 the behavior of this function will switch to that of iio.v3.imread. To keep the current behavior (and make this warning disappear) use `import imageio.v2 as imageio` or call `imageio.v2.imread` directly.\n",
      "  p1 =imageio.imread(f\"num_photo012/num2/{i:03d}.jpg\").reshape(1, PHOTO_SIZE)\n"
     ]
    },
    {
     "name": "stdout",
     "output_type": "stream",
     "text": [
      "[0 1 2 0 1 2 0 1 2 0 1 2 0 1 2 0 1 2 0 1 2 0 1 2 0 1 2 0 1 2 0 1 2 0 1 2 0\n",
      " 1 2 0 1 2 0 1 2 0 1 2 0 1 2 0 1 2 0 1 2 0 1 2 0 1 2 0 1 2 0 1 2 0 1 2 0 1\n",
      " 2 0 1 2 0 1 2 0 1 2 0 1 2 0 1 2 0 1 2 0 1 2 0 1 2 0 1 2 0 1 2 0 1 2 0 1 2\n",
      " 0 1 2 0 1 2 0 1 2 0 1 2 0 1 2 0 1 2 0 1 2 0 1 2 0 1 2 0 1 2 0 1 2 0 1 2 0\n",
      " 1 2 0 1 2 0 1 2 0 1 2 0 1 2 0 1 2 0 1 2 0 1 2 0 1 2 0 1 2 0 1 2 0 1 2 0 1\n",
      " 2 0 1 2 0 1 2 0 1 2 0 1 2 0 1 2 0 1 2 0 1 2 0 1 2 0 1 2 0 1 2 0 1 2 0 1 2\n",
      " 0 1 2 0 1 2 0 1 2 0 1 2 0 1 2 0 1 2 0 1 2 0 1 2 0 1 2 0 1 2 0 1 2 0 1 2 0\n",
      " 1 2 0 1 2 0 1 2 0 1 2 0 1 2 0 1 2 0 1 2 0 1 2 0 1 2 0 1 2 0 1 2 0 1 2 0 1\n",
      " 2 0 1 2]\n"
     ]
    },
    {
     "data": {
      "image/png": "[encoded data removed]",
      "text/plain": [
       "<Figure size 640x480 with 12 Axes>"
      ]
     },
     "metadata": {},
     "output_type": "display_data"
    }
   ],
   "source": [
    "#問題2-5のプログラム\n",
    "# 空の配列（計測データ X と教師データ y）を用意する\n",
    "X = np.empty((0, PHOTO_SIZE), np.uint8)\n",
    "# uint8とは8ビットで表現できる符号なし整数\n",
    "y = np.empty(0, np.uint8)\n",
    "\n",
    "# 画像を読み込むには imageio.imread() を使う\n",
    "# 手書きの画像（計測データ）を配列形式で読み込んでXに格納\n",
    "#（axis = 0で二次元配列の縦（行）に要素を追加する）\n",
    "# 目的変数y には 0 なら 0, 1 なら 1 、２なら２と整数値0から２（8ビット符号なし整数）のデータを\n",
    "# 教師データとして追加していく\n",
    "\n",
    "\n",
    "for i in range(0, 100):\n",
    "    p1 =imageio.imread(f\"num_photo012/num0/{i:03d}.jpg\").reshape(1, PHOTO_SIZE)\n",
    "    X = np.append(X, p1, axis = 0)\n",
    "    y = np.append(y, np.array([0], dtype = np.uint8))\n",
    "\n",
    "    p1 =imageio.imread(f\"num_photo012/num1/{i:03d}.jpg\").reshape(1, PHOTO_SIZE)\n",
    "    X = np.append(X, p1, axis = 0)\n",
    "    y = np.append(y, np.array([1], dtype = np.uint8))\n",
    "\n",
    "    p1 =imageio.imread(f\"num_photo012/num2/{i:03d}.jpg\").reshape(1, PHOTO_SIZE)\n",
    "    X = np.append(X, p1, axis = 0)\n",
    "    y = np.append(y, np.array([2], dtype = np.uint8))\n",
    "\n",
    "print(y)\n",
    "\n",
    "# matplotlib.pyplot の plt.imshow() を実行することで、\n",
    "#グラフと同じような形式で画像を表示できます。\n",
    "fig=plt.figure()\n",
    "for i,j in enumerate(X[:12]):\n",
    "    sp=fig.add_subplot(2,6,(i+1))\n",
    "    sp.imshow(j.reshape(28,28), cmap='Greys_r')"
   ]
  },
  {
   "cell_type": "markdown",
   "metadata": {},
   "source": [
    "## 問題2-6. `X` と `y` の要素数を確認してみましょう"
   ]
  },
  {
   "cell_type": "code",
   "execution_count": 26,
   "metadata": {},
   "outputs": [
    {
     "name": "stdout",
     "output_type": "stream",
     "text": [
      "(300, 784)\n",
      "(300,)\n"
     ]
    }
   ],
   "source": [
    "#問題2-6のプログラム\n",
    "# Xおよびyの要素数を確認する（命令を追記すること）\n",
    "print(X.shape)\n",
    "print(y.shape)"
   ]
  },
  {
   "cell_type": "markdown",
   "metadata": {},
   "source": [
    "## データを訓練データとテストデータに分ける\n",
    "\n",
    "## 問題2-7. 訓練データとテストデータを各々240件目で分けましょう。"
   ]
  },
  {
   "cell_type": "code",
   "execution_count": 27,
   "metadata": {},
   "outputs": [],
   "source": [
    "#問題2-7のプログラム\n",
    "X_train = X[:240]\n",
    "X_test  = X[240:]\n",
    "y_train = y[:240]\n",
    "y_test  = y[240:]"
   ]
  },
  {
   "cell_type": "markdown",
   "metadata": {},
   "source": [
    "## 問題2-8. `X` と `y` 各々の訓練データとテストデータの要素数を確認してみましょう"
   ]
  },
  {
   "cell_type": "code",
   "execution_count": 28,
   "metadata": {},
   "outputs": [
    {
     "name": "stdout",
     "output_type": "stream",
     "text": [
      "(240, 784)\n",
      "(60, 784)\n",
      "(240,)\n",
      "(60,)\n"
     ]
    }
   ],
   "source": [
    "#問題2-8のプログラム\n",
    "print(X_train.shape)\n",
    "print(X_test.shape)\n",
    "print(y_train.shape)\n",
    "print(y_test.shape)"
   ]
  },
  {
   "cell_type": "markdown",
   "metadata": {},
   "source": [
    "## 問題2-9. SVM の分類器を作ってみましょう\n",
    "### 数字「０」ならば 0、「１」ならば 1、「２」ならば 2  として、三つのクラスに分ける線形SVMによる３値分類を行う。"
   ]
  },
  {
   "cell_type": "code",
   "execution_count": 29,
   "metadata": {},
   "outputs": [
    {
     "data": {
      "text/html": [
       "<style>#sk-container-id-2 {\n",
       "  /* Definition of color scheme common for light and dark mode */\n",
       "  --sklearn-color-text: #000;\n",
       "  --sklearn-color-text-muted: #666;\n",
       "  --sklearn-color-line: gray;\n",
       "  /* Definition of color scheme for unfitted estimators */\n",
       "  --sklearn-color-unfitted-level-0: #fff5e6;\n",
       "  --sklearn-color-unfitted-level-1: #f6e4d2;\n",
       "  --sklearn-color-unfitted-level-2: #ffe0b3;\n",
       "  --sklearn-color-unfitted-level-3: chocolate;\n",
       "  /* Definition of color scheme for fitted estimators */\n",
       "  --sklearn-color-fitted-level-0: #f0f8ff;\n",
       "  --sklearn-color-fitted-level-1: #d4ebff;\n",
       "  --sklearn-color-fitted-level-2: #b3dbfd;\n",
       "  --sklearn-color-fitted-level-3: cornflowerblue;\n",
       "\n",
       "  /* Specific color for light theme */\n",
       "  --sklearn-color-text-on-default-background: var(--sg-text-color, var(--theme-code-foreground, var(--jp-content-font-color1, black)));\n",
       "  --sklearn-color-background: var(--sg-background-color, var(--theme-background, var(--jp-layout-color0, white)));\n",
       "  --sklearn-color-border-box: var(--sg-text-color, var(--theme-code-foreground, var(--jp-content-font-color1, black)));\n",
       "  --sklearn-color-icon: #696969;\n",
       "\n",
       "  @media (prefers-color-scheme: dark) {\n",
       "    /* Redefinition of color scheme for dark theme */\n",
       "    --sklearn-color-text-on-default-background: var(--sg-text-color, var(--theme-code-foreground, var(--jp-content-font-color1, white)));\n",
       "    --sklearn-color-background: var(--sg-background-color, var(--theme-background, var(--jp-layout-color0, #111)));\n",
       "    --sklearn-color-border-box: var(--sg-text-color, var(--theme-code-foreground, var(--jp-content-font-color1, white)));\n",
       "    --sklearn-color-icon: #878787;\n",
       "  }\n",
       "}\n",
       "\n",
       "#sk-container-id-2 {\n",
       "  color: var(--sklearn-color-text);\n",
       "}\n",
       "\n",
       "#sk-container-id-2 pre {\n",
       "  padding: 0;\n",
       "}\n",
       "\n",
       "#sk-container-id-2 input.sk-hidden--visually {\n",
       "  border: 0;\n",
       "  clip: rect(1px 1px 1px 1px);\n",
       "  clip: rect(1px, 1px, 1px, 1px);\n",
       "  height: 1px;\n",
       "  margin: -1px;\n",
       "  overflow: hidden;\n",
       "  padding: 0;\n",
       "  position: absolute;\n",
       "  width: 1px;\n",
       "}\n",
       "\n",
       "#sk-container-id-2 div.sk-dashed-wrapped {\n",
       "  border: 1px dashed var(--sklearn-color-line);\n",
       "  margin: 0 0.4em 0.5em 0.4em;\n",
       "  box-sizing: border-box;\n",
       "  padding-bottom: 0.4em;\n",
       "  background-color: var(--sklearn-color-background);\n",
       "}\n",
       "\n",
       "#sk-container-id-2 div.sk-container {\n",
       "  /* jupyter's `normalize.less` sets `[hidden] { display: none; }`\n",
       "     but bootstrap.min.css set `[hidden] { display: none !important; }`\n",
       "     so we also need the `!important` here to be able to override the\n",
       "     default hidden behavior on the sphinx rendered scikit-learn.org.\n",
       "     See: https://github.com/scikit-learn/scikit-learn/issues/21755 */\n",
       "  display: inline-block !important;\n",
       "  position: relative;\n",
       "}\n",
       "\n",
       "#sk-container-id-2 div.sk-text-repr-fallback {\n",
       "  display: none;\n",
       "}\n",
       "\n",
       "div.sk-parallel-item,\n",
       "div.sk-serial,\n",
       "div.sk-item {\n",
       "  /* draw centered vertical line to link estimators */\n",
       "  background-image: linear-gradient(var(--sklearn-color-text-on-default-background), var(--sklearn-color-text-on-default-background));\n",
       "  background-size: 2px 100%;\n",
       "  background-repeat: no-repeat;\n",
       "  background-position: center center;\n",
       "}\n",
       "\n",
       "/* Parallel-specific style estimator block */\n",
       "\n",
       "#sk-container-id-2 div.sk-parallel-item::after {\n",
       "  content: \"\";\n",
       "  width: 100%;\n",
       "  border-bottom: 2px solid var(--sklearn-color-text-on-default-background);\n",
       "  flex-grow: 1;\n",
       "}\n",
       "\n",
       "#sk-container-id-2 div.sk-parallel {\n",
       "  display: flex;\n",
       "  align-items: stretch;\n",
       "  justify-content: center;\n",
       "  background-color: var(--sklearn-color-background);\n",
       "  position: relative;\n",
       "}\n",
       "\n",
       "#sk-container-id-2 div.sk-parallel-item {\n",
       "  display: flex;\n",
       "  flex-direction: column;\n",
       "}\n",
       "\n",
       "#sk-container-id-2 div.sk-parallel-item:first-child::after {\n",
       "  align-self: flex-end;\n",
       "  width: 50%;\n",
       "}\n",
       "\n",
       "#sk-container-id-2 div.sk-parallel-item:last-child::after {\n",
       "  align-self: flex-start;\n",
       "  width: 50%;\n",
       "}\n",
       "\n",
       "#sk-container-id-2 div.sk-parallel-item:only-child::after {\n",
       "  width: 0;\n",
       "}\n",
       "\n",
       "/* Serial-specific style estimator block */\n",
       "\n",
       "#sk-container-id-2 div.sk-serial {\n",
       "  display: flex;\n",
       "  flex-direction: column;\n",
       "  align-items: center;\n",
       "  background-color: var(--sklearn-color-background);\n",
       "  padding-right: 1em;\n",
       "  padding-left: 1em;\n",
       "}\n",
       "\n",
       "\n",
       "/* Toggleable style: style used for estimator/Pipeline/ColumnTransformer box that is\n",
       "clickable and can be expanded/collapsed.\n",
       "- Pipeline and ColumnTransformer use this feature and define the default style\n",
       "- Estimators will overwrite some part of the style using the `sk-estimator` class\n",
       "*/\n",
       "\n",
       "/* Pipeline and ColumnTransformer style (default) */\n",
       "\n",
       "#sk-container-id-2 div.sk-toggleable {\n",
       "  /* Default theme specific background. It is overwritten whether we have a\n",
       "  specific estimator or a Pipeline/ColumnTransformer */\n",
       "  background-color: var(--sklearn-color-background);\n",
       "}\n",
       "\n",
       "/* Toggleable label */\n",
       "#sk-container-id-2 label.sk-toggleable__label {\n",
       "  cursor: pointer;\n",
       "  display: flex;\n",
       "  width: 100%;\n",
       "  margin-bottom: 0;\n",
       "  padding: 0.5em;\n",
       "  box-sizing: border-box;\n",
       "  text-align: center;\n",
       "  align-items: start;\n",
       "  justify-content: space-between;\n",
       "  gap: 0.5em;\n",
       "}\n",
       "\n",
       "#sk-container-id-2 label.sk-toggleable__label .caption {\n",
       "  font-size: 0.6rem;\n",
       "  font-weight: lighter;\n",
       "  color: var(--sklearn-color-text-muted);\n",
       "}\n",
       "\n",
       "#sk-container-id-2 label.sk-toggleable__label-arrow:before {\n",
       "  /* Arrow on the left of the label */\n",
       "  content: \"▸\";\n",
       "  float: left;\n",
       "  margin-right: 0.25em;\n",
       "  color: var(--sklearn-color-icon);\n",
       "}\n",
       "\n",
       "#sk-container-id-2 label.sk-toggleable__label-arrow:hover:before {\n",
       "  color: var(--sklearn-color-text);\n",
       "}\n",
       "\n",
       "/* Toggleable content - dropdown */\n",
       "\n",
       "#sk-container-id-2 div.sk-toggleable__content {\n",
       "  max-height: 0;\n",
       "  max-width: 0;\n",
       "  overflow: hidden;\n",
       "  text-align: left;\n",
       "  /* unfitted */\n",
       "  background-color: var(--sklearn-color-unfitted-level-0);\n",
       "}\n",
       "\n",
       "#sk-container-id-2 div.sk-toggleable__content.fitted {\n",
       "  /* fitted */\n",
       "  background-color: var(--sklearn-color-fitted-level-0);\n",
       "}\n",
       "\n",
       "#sk-container-id-2 div.sk-toggleable__content pre {\n",
       "  margin: 0.2em;\n",
       "  border-radius: 0.25em;\n",
       "  color: var(--sklearn-color-text);\n",
       "  /* unfitted */\n",
       "  background-color: var(--sklearn-color-unfitted-level-0);\n",
       "}\n",
       "\n",
       "#sk-container-id-2 div.sk-toggleable__content.fitted pre {\n",
       "  /* unfitted */\n",
       "  background-color: var(--sklearn-color-fitted-level-0);\n",
       "}\n",
       "\n",
       "#sk-container-id-2 input.sk-toggleable__control:checked~div.sk-toggleable__content {\n",
       "  /* Expand drop-down */\n",
       "  max-height: 200px;\n",
       "  max-width: 100%;\n",
       "  overflow: auto;\n",
       "}\n",
       "\n",
       "#sk-container-id-2 input.sk-toggleable__control:checked~label.sk-toggleable__label-arrow:before {\n",
       "  content: \"▾\";\n",
       "}\n",
       "\n",
       "/* Pipeline/ColumnTransformer-specific style */\n",
       "\n",
       "#sk-container-id-2 div.sk-label input.sk-toggleable__control:checked~label.sk-toggleable__label {\n",
       "  color: var(--sklearn-color-text);\n",
       "  background-color: var(--sklearn-color-unfitted-level-2);\n",
       "}\n",
       "\n",
       "#sk-container-id-2 div.sk-label.fitted input.sk-toggleable__control:checked~label.sk-toggleable__label {\n",
       "  background-color: var(--sklearn-color-fitted-level-2);\n",
       "}\n",
       "\n",
       "/* Estimator-specific style */\n",
       "\n",
       "/* Colorize estimator box */\n",
       "#sk-container-id-2 div.sk-estimator input.sk-toggleable__control:checked~label.sk-toggleable__label {\n",
       "  /* unfitted */\n",
       "  background-color: var(--sklearn-color-unfitted-level-2);\n",
       "}\n",
       "\n",
       "#sk-container-id-2 div.sk-estimator.fitted input.sk-toggleable__control:checked~label.sk-toggleable__label {\n",
       "  /* fitted */\n",
       "  background-color: var(--sklearn-color-fitted-level-2);\n",
       "}\n",
       "\n",
       "#sk-container-id-2 div.sk-label label.sk-toggleable__label,\n",
       "#sk-container-id-2 div.sk-label label {\n",
       "  /* The background is the default theme color */\n",
       "  color: var(--sklearn-color-text-on-default-background);\n",
       "}\n",
       "\n",
       "/* On hover, darken the color of the background */\n",
       "#sk-container-id-2 div.sk-label:hover label.sk-toggleable__label {\n",
       "  color: var(--sklearn-color-text);\n",
       "  background-color: var(--sklearn-color-unfitted-level-2);\n",
       "}\n",
       "\n",
       "/* Label box, darken color on hover, fitted */\n",
       "#sk-container-id-2 div.sk-label.fitted:hover label.sk-toggleable__label.fitted {\n",
       "  color: var(--sklearn-color-text);\n",
       "  background-color: var(--sklearn-color-fitted-level-2);\n",
       "}\n",
       "\n",
       "/* Estimator label */\n",
       "\n",
       "#sk-container-id-2 div.sk-label label {\n",
       "  font-family: monospace;\n",
       "  font-weight: bold;\n",
       "  display: inline-block;\n",
       "  line-height: 1.2em;\n",
       "}\n",
       "\n",
       "#sk-container-id-2 div.sk-label-container {\n",
       "  text-align: center;\n",
       "}\n",
       "\n",
       "/* Estimator-specific */\n",
       "#sk-container-id-2 div.sk-estimator {\n",
       "  font-family: monospace;\n",
       "  border: 1px dotted var(--sklearn-color-border-box);\n",
       "  border-radius: 0.25em;\n",
       "  box-sizing: border-box;\n",
       "  margin-bottom: 0.5em;\n",
       "  /* unfitted */\n",
       "  background-color: var(--sklearn-color-unfitted-level-0);\n",
       "}\n",
       "\n",
       "#sk-container-id-2 div.sk-estimator.fitted {\n",
       "  /* fitted */\n",
       "  background-color: var(--sklearn-color-fitted-level-0);\n",
       "}\n",
       "\n",
       "/* on hover */\n",
       "#sk-container-id-2 div.sk-estimator:hover {\n",
       "  /* unfitted */\n",
       "  background-color: var(--sklearn-color-unfitted-level-2);\n",
       "}\n",
       "\n",
       "#sk-container-id-2 div.sk-estimator.fitted:hover {\n",
       "  /* fitted */\n",
       "  background-color: var(--sklearn-color-fitted-level-2);\n",
       "}\n",
       "\n",
       "/* Specification for estimator info (e.g. \"i\" and \"?\") */\n",
       "\n",
       "/* Common style for \"i\" and \"?\" */\n",
       "\n",
       ".sk-estimator-doc-link,\n",
       "a:link.sk-estimator-doc-link,\n",
       "a:visited.sk-estimator-doc-link {\n",
       "  float: right;\n",
       "  font-size: smaller;\n",
       "  line-height: 1em;\n",
       "  font-family: monospace;\n",
       "  background-color: var(--sklearn-color-background);\n",
       "  border-radius: 1em;\n",
       "  height: 1em;\n",
       "  width: 1em;\n",
       "  text-decoration: none !important;\n",
       "  margin-left: 0.5em;\n",
       "  text-align: center;\n",
       "  /* unfitted */\n",
       "  border: var(--sklearn-color-unfitted-level-1) 1pt solid;\n",
       "  color: var(--sklearn-color-unfitted-level-1);\n",
       "}\n",
       "\n",
       ".sk-estimator-doc-link.fitted,\n",
       "a:link.sk-estimator-doc-link.fitted,\n",
       "a:visited.sk-estimator-doc-link.fitted {\n",
       "  /* fitted */\n",
       "  border: var(--sklearn-color-fitted-level-1) 1pt solid;\n",
       "  color: var(--sklearn-color-fitted-level-1);\n",
       "}\n",
       "\n",
       "/* On hover */\n",
       "div.sk-estimator:hover .sk-estimator-doc-link:hover,\n",
       ".sk-estimator-doc-link:hover,\n",
       "div.sk-label-container:hover .sk-estimator-doc-link:hover,\n",
       ".sk-estimator-doc-link:hover {\n",
       "  /* unfitted */\n",
       "  background-color: var(--sklearn-color-unfitted-level-3);\n",
       "  color: var(--sklearn-color-background);\n",
       "  text-decoration: none;\n",
       "}\n",
       "\n",
       "div.sk-estimator.fitted:hover .sk-estimator-doc-link.fitted:hover,\n",
       ".sk-estimator-doc-link.fitted:hover,\n",
       "div.sk-label-container:hover .sk-estimator-doc-link.fitted:hover,\n",
       ".sk-estimator-doc-link.fitted:hover {\n",
       "  /* fitted */\n",
       "  background-color: var(--sklearn-color-fitted-level-3);\n",
       "  color: var(--sklearn-color-background);\n",
       "  text-decoration: none;\n",
       "}\n",
       "\n",
       "/* Span, style for the box shown on hovering the info icon */\n",
       ".sk-estimator-doc-link span {\n",
       "  display: none;\n",
       "  z-index: 9999;\n",
       "  position: relative;\n",
       "  font-weight: normal;\n",
       "  right: .2ex;\n",
       "  padding: .5ex;\n",
       "  margin: .5ex;\n",
       "  width: min-content;\n",
       "  min-width: 20ex;\n",
       "  max-width: 50ex;\n",
       "  color: var(--sklearn-color-text);\n",
       "  box-shadow: 2pt 2pt 4pt #999;\n",
       "  /* unfitted */\n",
       "  background: var(--sklearn-color-unfitted-level-0);\n",
       "  border: .5pt solid var(--sklearn-color-unfitted-level-3);\n",
       "}\n",
       "\n",
       ".sk-estimator-doc-link.fitted span {\n",
       "  /* fitted */\n",
       "  background: var(--sklearn-color-fitted-level-0);\n",
       "  border: var(--sklearn-color-fitted-level-3);\n",
       "}\n",
       "\n",
       ".sk-estimator-doc-link:hover span {\n",
       "  display: block;\n",
       "}\n",
       "\n",
       "/* \"?\"-specific style due to the `<a>` HTML tag */\n",
       "\n",
       "#sk-container-id-2 a.estimator_doc_link {\n",
       "  float: right;\n",
       "  font-size: 1rem;\n",
       "  line-height: 1em;\n",
       "  font-family: monospace;\n",
       "  background-color: var(--sklearn-color-background);\n",
       "  border-radius: 1rem;\n",
       "  height: 1rem;\n",
       "  width: 1rem;\n",
       "  text-decoration: none;\n",
       "  /* unfitted */\n",
       "  color: var(--sklearn-color-unfitted-level-1);\n",
       "  border: var(--sklearn-color-unfitted-level-1) 1pt solid;\n",
       "}\n",
       "\n",
       "#sk-container-id-2 a.estimator_doc_link.fitted {\n",
       "  /* fitted */\n",
       "  border: var(--sklearn-color-fitted-level-1) 1pt solid;\n",
       "  color: var(--sklearn-color-fitted-level-1);\n",
       "}\n",
       "\n",
       "/* On hover */\n",
       "#sk-container-id-2 a.estimator_doc_link:hover {\n",
       "  /* unfitted */\n",
       "  background-color: var(--sklearn-color-unfitted-level-3);\n",
       "  color: var(--sklearn-color-background);\n",
       "  text-decoration: none;\n",
       "}\n",
       "\n",
       "#sk-container-id-2 a.estimator_doc_link.fitted:hover {\n",
       "  /* fitted */\n",
       "  background-color: var(--sklearn-color-fitted-level-3);\n",
       "}\n",
       "</style><div id=\"sk-container-id-2\" class=\"sk-top-container\"><div class=\"sk-text-repr-fallback\"><pre>SVC(kernel=&#x27;linear&#x27;)</pre><b>In a Jupyter environment, please rerun this cell to show the HTML representation or trust the notebook. <br />On GitHub, the HTML representation is unable to render, please try loading this page with nbviewer.org.</b></div><div class=\"sk-container\" hidden><div class=\"sk-item\"><div class=\"sk-estimator fitted sk-toggleable\"><input class=\"sk-toggleable__control sk-hidden--visually\" id=\"sk-estimator-id-2\" type=\"checkbox\" checked><label for=\"sk-estimator-id-2\" class=\"sk-toggleable__label fitted sk-toggleable__label-arrow\"><div><div>SVC</div></div><div><a class=\"sk-estimator-doc-link fitted\" rel=\"noreferrer\" target=\"_blank\" href=\"https://scikit-learn.org/1.6/modules/generated/sklearn.svm.SVC.html\">?<span>Documentation for SVC</span></a><span class=\"sk-estimator-doc-link fitted\">i<span>Fitted</span></span></div></label><div class=\"sk-toggleable__content fitted\"><pre>SVC(kernel=&#x27;linear&#x27;)</pre></div> </div></div></div></div>"
      ],
      "text/plain": [
       "SVC(kernel='linear')"
      ]
     },
     "execution_count": 29,
     "metadata": {},
     "output_type": "execute_result"
    }
   ],
   "source": [
    "#問題2-9のプログラム\n",
    "# 線形分類器を作成する。訓練データを設定する（命令を追記すること）\n",
    "#　分類できるようにするため学習用（訓練用）の画像で学習する。\n",
    "from sklearn.svm import SVC\n",
    "classifier = SVC(kernel = \"linear\")\n",
    "classifier.fit(X_train,y_train )"
   ]
  },
  {
   "cell_type": "markdown",
   "metadata": {},
   "source": [
    "##  問題2-10. テストデータを分類器にかけて分類してみましょう\n",
    "\n",
    "### テストデータを分類器にかけてください。学習に用いた画像とは異なるテスト用の画像で分類（予測）してください"
   ]
  },
  {
   "cell_type": "code",
   "execution_count": 30,
   "metadata": {},
   "outputs": [],
   "source": [
    "#問題2-10のプログラム\n",
    "## テストデータを分類器にかける（命令を追記すること）\n",
    "y_pred = classifier.predict(X_test)"
   ]
  },
  {
   "cell_type": "markdown",
   "metadata": {},
   "source": [
    "## 問題2-11. 画像分類（０と１と２）の予測結果を表示しましょう\n",
    "\n",
    "分類器が出力した結果を表示しましょう。"
   ]
  },
  {
   "cell_type": "code",
   "execution_count": 31,
   "metadata": {},
   "outputs": [
    {
     "name": "stdout",
     "output_type": "stream",
     "text": [
      "[0 1 2 0 1 2 0 1 2 0 1 2 0 1 2 0 1 2 0 1 2 0 1 2 0 1 2 0 1 2 0 1 2 0 1 2 0\n",
      " 1 2 0 1 2 0 1 2 0 1 2 0 1 2 0 1 1 0 1 2 0 1 2]\n"
     ]
    }
   ],
   "source": [
    "#問題2-11のプログラム\n",
    "# 分類器の出力結果を表示する（命令を追記すること）\n",
    "print(y_pred)"
   ]
  },
  {
   "cell_type": "markdown",
   "metadata": {},
   "source": [
    "## 問題2-12. 分類器が出力した結果と比較するため、正解も表示しましょう。"
   ]
  },
  {
   "cell_type": "code",
   "execution_count": 32,
   "metadata": {},
   "outputs": [
    {
     "name": "stdout",
     "output_type": "stream",
     "text": [
      "[0 1 2 0 1 2 0 1 2 0 1 2 0 1 2 0 1 2 0 1 2 0 1 2 0 1 2 0 1 2 0 1 2 0 1 2 0\n",
      " 1 2 0 1 2 0 1 2 0 1 2 0 1 2 0 1 2 0 1 2 0 1 2]\n"
     ]
    }
   ],
   "source": [
    "#問題2-12のプログラム\n",
    "# 正解を表示する（命令を追記すること）\n",
    "print(y_test)"
   ]
  },
  {
   "cell_type": "markdown",
   "metadata": {},
   "source": [
    "## 問題2-13. 混同行列を表示してみましょう"
   ]
  },
  {
   "cell_type": "code",
   "execution_count": 33,
   "metadata": {},
   "outputs": [
    {
     "name": "stdout",
     "output_type": "stream",
     "text": [
      "[[20  0  0]\n",
      " [ 0 20  0]\n",
      " [ 0  1 19]]\n"
     ]
    }
   ],
   "source": [
    "#問題2-13のプログラム\n",
    "# 混同行列を表示する（命令を追記すること）\n",
    "from sklearn import metrics\n",
    "print(metrics.confusion_matrix(y_test, y_pred))"
   ]
  },
  {
   "cell_type": "markdown",
   "metadata": {},
   "source": [
    "## 問題2-14. 上の問題2-13の混同行列の結果から具体的に何がわかるか。説明せよ"
   ]
  },
  {
   "cell_type": "markdown",
   "metadata": {},
   "source": [
    "### ＜問題２－１4の解答欄＞自分の言葉で説明してください。\n",
    "### \n",
    "### "
   ]
  },
  {
   "cell_type": "markdown",
   "metadata": {},
   "source": [
    "## 問題2-15. 適合率・再現率・F値を確認してみましょう\n",
    "- precision(適合率):TP/（TP+FP）正と予測したデータのうち、実際に正であるものの割合\n",
    "- recall（再現率): TP/（TP+FN）実際に正であるデータのうち、正と予測されたものの割合\n",
    "- f1-score（f値）：２/（１/適合率＋１/ 再現率）適合率と再現率の調和平均"
   ]
  },
  {
   "cell_type": "code",
   "execution_count": 34,
   "metadata": {},
   "outputs": [
    {
     "name": "stdout",
     "output_type": "stream",
     "text": [
      "              precision    recall  f1-score   support\n",
      "\n",
      "           0       1.00      1.00      1.00        20\n",
      "           1       0.95      1.00      0.98        20\n",
      "           2       1.00      0.95      0.97        20\n",
      "\n",
      "    accuracy                           0.98        60\n",
      "   macro avg       0.98      0.98      0.98        60\n",
      "weighted avg       0.98      0.98      0.98        60\n",
      "\n"
     ]
    }
   ],
   "source": [
    "#問題2－15のプログラム\n",
    "#適合率・再現率・F値の表示\n",
    "print(metrics.classification_report(y_test ,y_pred  ))"
   ]
  },
  {
   "cell_type": "markdown",
   "metadata": {},
   "source": [
    "## 問題2-16.上の問題2-15の出力結果から具体的に何がわかるか。説明せよ。"
   ]
  },
  {
   "cell_type": "markdown",
   "metadata": {},
   "source": [
    "### ＜問題2-16 の解答欄＞自分の言葉で説明してください。\n",
    "### \n",
    "### "
   ]
  },
  {
   "cell_type": "markdown",
   "metadata": {},
   "source": [
    "## 問題2-17. accuracy_scoreを表示しましょう"
   ]
  },
  {
   "cell_type": "code",
   "execution_count": 35,
   "metadata": {},
   "outputs": [
    {
     "data": {
      "text/plain": [
       "0.9833333333333333"
      ]
     },
     "execution_count": 35,
     "metadata": {},
     "output_type": "execute_result"
    }
   ],
   "source": [
    "#問題2-17のプログラム７\n",
    "accuracy_score(y_test ,y_pred  )"
   ]
  },
  {
   "cell_type": "markdown",
   "metadata": {},
   "source": [
    "## 問題2-18. 上の問題2-17 の出力結果から具体的に何がわかるか。説明せよ"
   ]
  },
  {
   "cell_type": "markdown",
   "metadata": {},
   "source": [
    "### ＜問題2-18の解答欄＞自分の言葉で説明してください。\n",
    "### \n",
    "### "
   ]
  },
  {
   "cell_type": "markdown",
   "metadata": {},
   "source": [
    "# 【プログラミング演習】\n"
   ]
  },
  {
   "cell_type": "markdown",
   "metadata": {},
   "source": [
    "## 問題3-1. 球の半径rを5として、体積vを求めて出力しましょう。ただし、表面積は以下の公式でもとめられる。また、円周率π（PAI）は3.141592として計算しなさい。\n",
    "### $$v=4/3×π×r^3$$\n",
    "### 実行する際は、半径は10と入力した場合の結果を示すこと"
   ]
  },
  {
   "cell_type": "code",
   "execution_count": 36,
   "metadata": {},
   "outputs": [
    {
     "name": "stdout",
     "output_type": "stream",
     "text": [
      "523.5986666666666\n"
     ]
    }
   ],
   "source": [
    "#問題3-1のプログラム\n",
    "PAI=3.141592\n",
    "r=5\n",
    "v=4/3*PAI*r**3\n",
    "print(v)\n"
   ]
  },
  {
   "cell_type": "markdown",
   "metadata": {},
   "source": [
    "## 問題3-2. for文を用いて、0以上100以下の2の倍数の合計suｍを出力しなさい。\n",
    "## ヒント：sum=2+4+・・・・・・+100"
   ]
  },
  {
   "cell_type": "code",
   "execution_count": 37,
   "metadata": {},
   "outputs": [
    {
     "name": "stdout",
     "output_type": "stream",
     "text": [
      "2550\n"
     ]
    }
   ],
   "source": [
    "#問題3-2のプログラム\n",
    "sum=0\n",
    "for i in range(2,101,2):\n",
    "    sum+=i\n",
    "print(sum)"
   ]
  },
  {
   "cell_type": "markdown",
   "metadata": {},
   "source": [
    "## 問題3-3. for文の2重ルールを用いて、以下の三角形を出力するプログラムを作成しなさい。\n",
    "### ※＋を1個ずつ増やしながら、5行出力する。\n",
    "### ただし、ヒント1,　ヒント２のプログラムを実行し、参考にすることができる。\n",
    "### 問題３－３のプログラムは下の該当するセルに作成し、実行すること。\n",
    "###### ＋\n",
    "###### ＋＋\n",
    "###### ＋＋＋\n",
    "###### ＋＋＋＋\n",
    "###### ＋＋＋＋＋"
   ]
  },
  {
   "cell_type": "code",
   "execution_count": 38,
   "metadata": {},
   "outputs": [
    {
     "name": "stdout",
     "output_type": "stream",
     "text": [
      "+++++"
     ]
    }
   ],
   "source": [
    "#ヒント1\n",
    "for i in range(0,5,1):\n",
    "    print(\"+\",end=\"\")"
   ]
  },
  {
   "cell_type": "code",
   "execution_count": 39,
   "metadata": {},
   "outputs": [
    {
     "name": "stdout",
     "output_type": "stream",
     "text": [
      "+++\n",
      "+++\n",
      "+++\n",
      "+++\n",
      "+++\n"
     ]
    }
   ],
   "source": [
    "#ヒント2\n",
    "for i in range(0,5,1):\n",
    "    for j in range(0,3,1):\n",
    "        print(\"+\",end=\"\")\n",
    "    print()"
   ]
  },
  {
   "cell_type": "code",
   "execution_count": 40,
   "metadata": {},
   "outputs": [
    {
     "name": "stdout",
     "output_type": "stream",
     "text": [
      "+\n",
      "++\n",
      "+++\n",
      "++++\n",
      "+++++\n"
     ]
    }
   ],
   "source": [
    "#問題3-3のプログラム\n",
    "for i in range(1,6,1):\n",
    "    for j in range(0,i,1):\n",
    "        print(\"+\",end='')\n",
    "    print()\n"
   ]
  },
  {
   "cell_type": "markdown",
   "metadata": {},
   "source": [
    "## 問題3-4. 以下のの身長（height）と体重（weight）のデータから、numpy の最小二乗法により、体重と身長の近似直線式を求めなさい。\n",
    "\n",
    "### height = np.array([162, 150, 158, 170, 172, 181, 165, 158, 169, 175])\n",
    "### weight = np.array([55, 50, 60, 70, 64, 76, 59, 62, 67, 71])\n",
    "\n",
    "###  numpyのpolyfit を用いて、近似直線の傾きと切片を表示しなさい。また、poly1dにより、 f(x:weight) の式形式で表示しなさい。\n"
   ]
  },
  {
   "cell_type": "code",
   "execution_count": 41,
   "metadata": {},
   "outputs": [
    {
     "name": "stdout",
     "output_type": "stream",
     "text": [
      "[ 1.05859094 98.88533429]\n",
      " \n",
      "1.059 x + 98.89\n"
     ]
    }
   ],
   "source": [
    "#問題3-4のプログラム\n",
    "height = np.array([162, 150, 158, 170, 172, 181, 165, 158, 169, 175])\n",
    "weight = np.array([55, 50, 60, 70, 64, 76, 59, 62, 67, 71])\n",
    "p = np.polyfit(weight, height, 1)\n",
    "# 一次関数の式のオブジェクトを生成する\n",
    "print(p)\n",
    "# 一次関数の式のオブジェクトを生成する\n",
    "f = np.poly1d(p)\n",
    "print(f)\n"
   ]
  },
  {
   "cell_type": "markdown",
   "metadata": {},
   "source": [
    "## 問題3-5.（問題3-4.の続き）\n",
    "### 上の身長（height）と体重（weight）のデータを利用して、身長 と体重の関係がわかる散布図グラフを描いてください。以下、仕様です。\n",
    "\n",
    "- 散布図は青色でプロットしてください。\n",
    "- 最小二乗法を利用して、このデータの近似直線を散布図と一緒に描いてください。\n",
    "- 近似直線は赤色にしてください。\n",
    "- グラフの右下に凡例を表示してください。表示する文字列は、散布図の方は「data」、近似直線の方は「lsm」としてください。\n",
    "- 図のタイトルは\"Relationship between height and weight\"としてください。\n",
    "- xラベルは weight , yラベルはheightとつけて表示してください。"
   ]
  },
  {
   "cell_type": "code",
   "execution_count": 42,
   "metadata": {},
   "outputs": [
    {
     "data": {
      "image/png": "[encoded data removed]",
      "text/plain": [
       "<Figure size 640x480 with 1 Axes>"
      ]
     },
     "metadata": {},
     "output_type": "display_data"
    }
   ],
   "source": [
    "#問題3-5のプログラム\n",
    "plt.scatter(weight, height,label = \"data\")\n",
    "plt.plot(weight, f(weight),color=\"r\",label=\"lsm\")\n",
    "plt.legend(loc = \"lower right\")\n",
    "plt.title(\"Relationship between height and weight\")\n",
    "plt.xlabel(\"weight\")\n",
    "plt.ylabel(\"height\")\n",
    "plt.grid(True)"
   ]
  },
  {
   "cell_type": "code",
   "execution_count": null,
   "metadata": {},
   "outputs": [],
   "source": []
  }
 ],
 "metadata": {
  "kernelspec": {
   "display_name": "kit",
   "language": "python",
   "name": "kit"
  },
  "language_info": {
   "codemirror_mode": {
    "name": "ipython",
    "version": 3
   },
   "file_extension": ".py",
   "mimetype": "text/x-python",
   "name": "python",
   "nbconvert_exporter": "python",
   "pygments_lexer": "ipython3",
   "version": "3.13.1"
  }
 },
 "nbformat": 4,
 "nbformat_minor": 2
}
